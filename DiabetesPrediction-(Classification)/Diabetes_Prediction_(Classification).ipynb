{
  "cells": [
    {
      "cell_type": "markdown",
      "source": [
        "# Connect G-Drive"
      ],
      "metadata": {
        "id": "RF_4-z8AACcb"
      }
    },
    {
      "cell_type": "code",
      "source": [
        "from google.colab import drive\n",
        "drive.mount('/content/drive')"
      ],
      "metadata": {
        "id": "Hzq5HOY1ABYz",
        "outputId": "965715d4-93c1-4d67-a7a7-4e48cc1044e5",
        "colab": {
          "base_uri": "https://localhost:8080/"
        }
      },
      "execution_count": 3,
      "outputs": [
        {
          "output_type": "stream",
          "name": "stdout",
          "text": [
            "Drive already mounted at /content/drive; to attempt to forcibly remount, call drive.mount(\"/content/drive\", force_remount=True).\n"
          ]
        }
      ]
    },
    {
      "cell_type": "code",
      "execution_count": 4,
      "metadata": {
        "id": "BljaOLNx-PEp"
      },
      "outputs": [],
      "source": [
        "import os\n",
        "default_dir = \"/content/drive/MyDrive/GreatEdu/\"\n",
        "os.chdir(default_dir)"
      ]
    },
    {
      "cell_type": "code",
      "source": [
        "!ls"
      ],
      "metadata": {
        "id": "khXENvONAWaR",
        "outputId": "08542927-e121-4cbd-d823-f4992ad771a1",
        "colab": {
          "base_uri": "https://localhost:8080/"
        }
      },
      "execution_count": 5,
      "outputs": [
        {
          "output_type": "stream",
          "name": "stdout",
          "text": [
            "'09 File Handling.ipynb'\n",
            " assets\n",
            "'churn_modeling_dataset - churn_modeling_dataset.csv'\n",
            " Dataframe_I.ipynb\n",
            " data_online_retail.xlsx\n",
            "'Data Science Project 2.ipynb'\n",
            " dfTransjakarta2.csv\n",
            " dfTransjakarta.csv\n",
            "'diabetes - diabetes.csv'\n",
            " global-data-on-sustainable-energy.csv\n",
            " Online_Retail.csv\n",
            " Telco-Customer-Churn.csv\n",
            "'titanic_train - titanic_train.csv'\n",
            "'titanic_train - titanic_train.gsheet'\n",
            "'Tugas Mandiri Dataframe I - Mochammad Syahrul Abidin.ipynb'\n",
            "'Uji BNSP full.ipynb'\n",
            "'Uji BNSP.ipynb'\n"
          ]
        }
      ]
    },
    {
      "cell_type": "markdown",
      "source": [
        "# Import Libraries"
      ],
      "metadata": {
        "id": "NauGBwdzZIqp"
      }
    },
    {
      "cell_type": "code",
      "source": [
        "import warnings\n",
        "warnings.simplefilter(action=\"ignore\")\n",
        "\n",
        "import pandas as pd\n",
        "pd.set_option('display.max_columns', None)\n",
        "pd.set_option('display.max_rows', None)\n",
        "\n",
        "import matplotlib.pyplot as plt\n",
        "import seaborn as sns\n",
        "import numpy as np\n",
        "\n",
        "from lightgbm import LGBMClassifier\n",
        "from xgboost import XGBClassifier\n",
        "\n",
        "from sklearn.preprocessing import RobustScaler\n",
        "from sklearn.neighbors import KNeighborsClassifier\n",
        "from sklearn.svm import SVC\n",
        "from sklearn.tree import DecisionTreeClassifier\n",
        "from sklearn.linear_model import LogisticRegression\n",
        "\n",
        "from sklearn.ensemble import (\n",
        "    GradientBoostingClassifier,\n",
        "    RandomForestClassifier\n",
        ")\n",
        "\n",
        "from sklearn.metrics import (\n",
        "    accuracy_score,\n",
        "    roc_auc_score,\n",
        "    roc_curve,\n",
        "    classification_report\n",
        ")\n",
        "\n",
        "from sklearn.model_selection import (\n",
        "    KFold,\n",
        "    train_test_split,\n",
        "    GridSearchCV,\n",
        "    cross_val_score\n",
        ")\n",
        "\n",
        "import pickle"
      ],
      "metadata": {
        "id": "nUiUJUU3ZJR6"
      },
      "execution_count": 6,
      "outputs": []
    },
    {
      "cell_type": "markdown",
      "source": [
        "# 1.&nbsp;Load Dataset"
      ],
      "metadata": {
        "id": "j1rXbVT-Aqj6"
      }
    },
    {
      "cell_type": "code",
      "source": [
        "df = pd.read_csv(\"diabetes - diabetes.csv\")"
      ],
      "metadata": {
        "id": "HuXCkg6es7Yc"
      },
      "execution_count": 7,
      "outputs": []
    },
    {
      "cell_type": "code",
      "source": [
        "df.head()"
      ],
      "metadata": {
        "id": "2YZzGqaJu_sj",
        "outputId": "74286f99-3e85-43d5-da8d-1b88c144c07e",
        "colab": {
          "base_uri": "https://localhost:8080/",
          "height": 206
        }
      },
      "execution_count": 8,
      "outputs": [
        {
          "output_type": "execute_result",
          "data": {
            "text/plain": [
              "   Pregnancies  Glucose  BloodPressure  SkinThickness  Insulin   BMI  \\\n",
              "0            6      148             72             35        0  33.6   \n",
              "1            1       85             66             29        0  26.6   \n",
              "2            8      183             64              0        0  23.3   \n",
              "3            1       89             66             23       94  28.1   \n",
              "4            0      137             40             35      168  43.1   \n",
              "\n",
              "   DiabetesPedigreeFunction  Age  Outcome  \n",
              "0                   627.000   50        1  \n",
              "1                   351.000   31        0  \n",
              "2                   672.000   32        1  \n",
              "3                   167.000   21        0  \n",
              "4                     2.288   33        1  "
            ],
            "text/html": [
              "\n",
              "  <div id=\"df-3f64ae23-4c54-4073-a2f3-0bee66ffc943\" class=\"colab-df-container\">\n",
              "    <div>\n",
              "<style scoped>\n",
              "    .dataframe tbody tr th:only-of-type {\n",
              "        vertical-align: middle;\n",
              "    }\n",
              "\n",
              "    .dataframe tbody tr th {\n",
              "        vertical-align: top;\n",
              "    }\n",
              "\n",
              "    .dataframe thead th {\n",
              "        text-align: right;\n",
              "    }\n",
              "</style>\n",
              "<table border=\"1\" class=\"dataframe\">\n",
              "  <thead>\n",
              "    <tr style=\"text-align: right;\">\n",
              "      <th></th>\n",
              "      <th>Pregnancies</th>\n",
              "      <th>Glucose</th>\n",
              "      <th>BloodPressure</th>\n",
              "      <th>SkinThickness</th>\n",
              "      <th>Insulin</th>\n",
              "      <th>BMI</th>\n",
              "      <th>DiabetesPedigreeFunction</th>\n",
              "      <th>Age</th>\n",
              "      <th>Outcome</th>\n",
              "    </tr>\n",
              "  </thead>\n",
              "  <tbody>\n",
              "    <tr>\n",
              "      <th>0</th>\n",
              "      <td>6</td>\n",
              "      <td>148</td>\n",
              "      <td>72</td>\n",
              "      <td>35</td>\n",
              "      <td>0</td>\n",
              "      <td>33.6</td>\n",
              "      <td>627.000</td>\n",
              "      <td>50</td>\n",
              "      <td>1</td>\n",
              "    </tr>\n",
              "    <tr>\n",
              "      <th>1</th>\n",
              "      <td>1</td>\n",
              "      <td>85</td>\n",
              "      <td>66</td>\n",
              "      <td>29</td>\n",
              "      <td>0</td>\n",
              "      <td>26.6</td>\n",
              "      <td>351.000</td>\n",
              "      <td>31</td>\n",
              "      <td>0</td>\n",
              "    </tr>\n",
              "    <tr>\n",
              "      <th>2</th>\n",
              "      <td>8</td>\n",
              "      <td>183</td>\n",
              "      <td>64</td>\n",
              "      <td>0</td>\n",
              "      <td>0</td>\n",
              "      <td>23.3</td>\n",
              "      <td>672.000</td>\n",
              "      <td>32</td>\n",
              "      <td>1</td>\n",
              "    </tr>\n",
              "    <tr>\n",
              "      <th>3</th>\n",
              "      <td>1</td>\n",
              "      <td>89</td>\n",
              "      <td>66</td>\n",
              "      <td>23</td>\n",
              "      <td>94</td>\n",
              "      <td>28.1</td>\n",
              "      <td>167.000</td>\n",
              "      <td>21</td>\n",
              "      <td>0</td>\n",
              "    </tr>\n",
              "    <tr>\n",
              "      <th>4</th>\n",
              "      <td>0</td>\n",
              "      <td>137</td>\n",
              "      <td>40</td>\n",
              "      <td>35</td>\n",
              "      <td>168</td>\n",
              "      <td>43.1</td>\n",
              "      <td>2.288</td>\n",
              "      <td>33</td>\n",
              "      <td>1</td>\n",
              "    </tr>\n",
              "  </tbody>\n",
              "</table>\n",
              "</div>\n",
              "    <div class=\"colab-df-buttons\">\n",
              "\n",
              "  <div class=\"colab-df-container\">\n",
              "    <button class=\"colab-df-convert\" onclick=\"convertToInteractive('df-3f64ae23-4c54-4073-a2f3-0bee66ffc943')\"\n",
              "            title=\"Convert this dataframe to an interactive table.\"\n",
              "            style=\"display:none;\">\n",
              "\n",
              "  <svg xmlns=\"http://www.w3.org/2000/svg\" height=\"24px\" viewBox=\"0 -960 960 960\">\n",
              "    <path d=\"M120-120v-720h720v720H120Zm60-500h600v-160H180v160Zm220 220h160v-160H400v160Zm0 220h160v-160H400v160ZM180-400h160v-160H180v160Zm440 0h160v-160H620v160ZM180-180h160v-160H180v160Zm440 0h160v-160H620v160Z\"/>\n",
              "  </svg>\n",
              "    </button>\n",
              "\n",
              "  <style>\n",
              "    .colab-df-container {\n",
              "      display:flex;\n",
              "      gap: 12px;\n",
              "    }\n",
              "\n",
              "    .colab-df-convert {\n",
              "      background-color: #E8F0FE;\n",
              "      border: none;\n",
              "      border-radius: 50%;\n",
              "      cursor: pointer;\n",
              "      display: none;\n",
              "      fill: #1967D2;\n",
              "      height: 32px;\n",
              "      padding: 0 0 0 0;\n",
              "      width: 32px;\n",
              "    }\n",
              "\n",
              "    .colab-df-convert:hover {\n",
              "      background-color: #E2EBFA;\n",
              "      box-shadow: 0px 1px 2px rgba(60, 64, 67, 0.3), 0px 1px 3px 1px rgba(60, 64, 67, 0.15);\n",
              "      fill: #174EA6;\n",
              "    }\n",
              "\n",
              "    .colab-df-buttons div {\n",
              "      margin-bottom: 4px;\n",
              "    }\n",
              "\n",
              "    [theme=dark] .colab-df-convert {\n",
              "      background-color: #3B4455;\n",
              "      fill: #D2E3FC;\n",
              "    }\n",
              "\n",
              "    [theme=dark] .colab-df-convert:hover {\n",
              "      background-color: #434B5C;\n",
              "      box-shadow: 0px 1px 3px 1px rgba(0, 0, 0, 0.15);\n",
              "      filter: drop-shadow(0px 1px 2px rgba(0, 0, 0, 0.3));\n",
              "      fill: #FFFFFF;\n",
              "    }\n",
              "  </style>\n",
              "\n",
              "    <script>\n",
              "      const buttonEl =\n",
              "        document.querySelector('#df-3f64ae23-4c54-4073-a2f3-0bee66ffc943 button.colab-df-convert');\n",
              "      buttonEl.style.display =\n",
              "        google.colab.kernel.accessAllowed ? 'block' : 'none';\n",
              "\n",
              "      async function convertToInteractive(key) {\n",
              "        const element = document.querySelector('#df-3f64ae23-4c54-4073-a2f3-0bee66ffc943');\n",
              "        const dataTable =\n",
              "          await google.colab.kernel.invokeFunction('convertToInteractive',\n",
              "                                                    [key], {});\n",
              "        if (!dataTable) return;\n",
              "\n",
              "        const docLinkHtml = 'Like what you see? Visit the ' +\n",
              "          '<a target=\"_blank\" href=https://colab.research.google.com/notebooks/data_table.ipynb>data table notebook</a>'\n",
              "          + ' to learn more about interactive tables.';\n",
              "        element.innerHTML = '';\n",
              "        dataTable['output_type'] = 'display_data';\n",
              "        await google.colab.output.renderOutput(dataTable, element);\n",
              "        const docLink = document.createElement('div');\n",
              "        docLink.innerHTML = docLinkHtml;\n",
              "        element.appendChild(docLink);\n",
              "      }\n",
              "    </script>\n",
              "  </div>\n",
              "\n",
              "\n",
              "<div id=\"df-ee70d856-d787-4cc2-ac10-187866a42dce\">\n",
              "  <button class=\"colab-df-quickchart\" onclick=\"quickchart('df-ee70d856-d787-4cc2-ac10-187866a42dce')\"\n",
              "            title=\"Suggest charts\"\n",
              "            style=\"display:none;\">\n",
              "\n",
              "<svg xmlns=\"http://www.w3.org/2000/svg\" height=\"24px\"viewBox=\"0 0 24 24\"\n",
              "     width=\"24px\">\n",
              "    <g>\n",
              "        <path d=\"M19 3H5c-1.1 0-2 .9-2 2v14c0 1.1.9 2 2 2h14c1.1 0 2-.9 2-2V5c0-1.1-.9-2-2-2zM9 17H7v-7h2v7zm4 0h-2V7h2v10zm4 0h-2v-4h2v4z\"/>\n",
              "    </g>\n",
              "</svg>\n",
              "  </button>\n",
              "\n",
              "<style>\n",
              "  .colab-df-quickchart {\n",
              "      --bg-color: #E8F0FE;\n",
              "      --fill-color: #1967D2;\n",
              "      --hover-bg-color: #E2EBFA;\n",
              "      --hover-fill-color: #174EA6;\n",
              "      --disabled-fill-color: #AAA;\n",
              "      --disabled-bg-color: #DDD;\n",
              "  }\n",
              "\n",
              "  [theme=dark] .colab-df-quickchart {\n",
              "      --bg-color: #3B4455;\n",
              "      --fill-color: #D2E3FC;\n",
              "      --hover-bg-color: #434B5C;\n",
              "      --hover-fill-color: #FFFFFF;\n",
              "      --disabled-bg-color: #3B4455;\n",
              "      --disabled-fill-color: #666;\n",
              "  }\n",
              "\n",
              "  .colab-df-quickchart {\n",
              "    background-color: var(--bg-color);\n",
              "    border: none;\n",
              "    border-radius: 50%;\n",
              "    cursor: pointer;\n",
              "    display: none;\n",
              "    fill: var(--fill-color);\n",
              "    height: 32px;\n",
              "    padding: 0;\n",
              "    width: 32px;\n",
              "  }\n",
              "\n",
              "  .colab-df-quickchart:hover {\n",
              "    background-color: var(--hover-bg-color);\n",
              "    box-shadow: 0 1px 2px rgba(60, 64, 67, 0.3), 0 1px 3px 1px rgba(60, 64, 67, 0.15);\n",
              "    fill: var(--button-hover-fill-color);\n",
              "  }\n",
              "\n",
              "  .colab-df-quickchart-complete:disabled,\n",
              "  .colab-df-quickchart-complete:disabled:hover {\n",
              "    background-color: var(--disabled-bg-color);\n",
              "    fill: var(--disabled-fill-color);\n",
              "    box-shadow: none;\n",
              "  }\n",
              "\n",
              "  .colab-df-spinner {\n",
              "    border: 2px solid var(--fill-color);\n",
              "    border-color: transparent;\n",
              "    border-bottom-color: var(--fill-color);\n",
              "    animation:\n",
              "      spin 1s steps(1) infinite;\n",
              "  }\n",
              "\n",
              "  @keyframes spin {\n",
              "    0% {\n",
              "      border-color: transparent;\n",
              "      border-bottom-color: var(--fill-color);\n",
              "      border-left-color: var(--fill-color);\n",
              "    }\n",
              "    20% {\n",
              "      border-color: transparent;\n",
              "      border-left-color: var(--fill-color);\n",
              "      border-top-color: var(--fill-color);\n",
              "    }\n",
              "    30% {\n",
              "      border-color: transparent;\n",
              "      border-left-color: var(--fill-color);\n",
              "      border-top-color: var(--fill-color);\n",
              "      border-right-color: var(--fill-color);\n",
              "    }\n",
              "    40% {\n",
              "      border-color: transparent;\n",
              "      border-right-color: var(--fill-color);\n",
              "      border-top-color: var(--fill-color);\n",
              "    }\n",
              "    60% {\n",
              "      border-color: transparent;\n",
              "      border-right-color: var(--fill-color);\n",
              "    }\n",
              "    80% {\n",
              "      border-color: transparent;\n",
              "      border-right-color: var(--fill-color);\n",
              "      border-bottom-color: var(--fill-color);\n",
              "    }\n",
              "    90% {\n",
              "      border-color: transparent;\n",
              "      border-bottom-color: var(--fill-color);\n",
              "    }\n",
              "  }\n",
              "</style>\n",
              "\n",
              "  <script>\n",
              "    async function quickchart(key) {\n",
              "      const quickchartButtonEl =\n",
              "        document.querySelector('#' + key + ' button');\n",
              "      quickchartButtonEl.disabled = true;  // To prevent multiple clicks.\n",
              "      quickchartButtonEl.classList.add('colab-df-spinner');\n",
              "      try {\n",
              "        const charts = await google.colab.kernel.invokeFunction(\n",
              "            'suggestCharts', [key], {});\n",
              "      } catch (error) {\n",
              "        console.error('Error during call to suggestCharts:', error);\n",
              "      }\n",
              "      quickchartButtonEl.classList.remove('colab-df-spinner');\n",
              "      quickchartButtonEl.classList.add('colab-df-quickchart-complete');\n",
              "    }\n",
              "    (() => {\n",
              "      let quickchartButtonEl =\n",
              "        document.querySelector('#df-ee70d856-d787-4cc2-ac10-187866a42dce button');\n",
              "      quickchartButtonEl.style.display =\n",
              "        google.colab.kernel.accessAllowed ? 'block' : 'none';\n",
              "    })();\n",
              "  </script>\n",
              "</div>\n",
              "    </div>\n",
              "  </div>\n"
            ],
            "application/vnd.google.colaboratory.intrinsic+json": {
              "type": "dataframe",
              "variable_name": "df",
              "summary": "{\n  \"name\": \"df\",\n  \"rows\": 768,\n  \"fields\": [\n    {\n      \"column\": \"Pregnancies\",\n      \"properties\": {\n        \"dtype\": \"number\",\n        \"std\": 3,\n        \"min\": 0,\n        \"max\": 17,\n        \"num_unique_values\": 17,\n        \"samples\": [\n          6,\n          1,\n          3\n        ],\n        \"semantic_type\": \"\",\n        \"description\": \"\"\n      }\n    },\n    {\n      \"column\": \"Glucose\",\n      \"properties\": {\n        \"dtype\": \"number\",\n        \"std\": 31,\n        \"min\": 0,\n        \"max\": 199,\n        \"num_unique_values\": 136,\n        \"samples\": [\n          151,\n          101,\n          112\n        ],\n        \"semantic_type\": \"\",\n        \"description\": \"\"\n      }\n    },\n    {\n      \"column\": \"BloodPressure\",\n      \"properties\": {\n        \"dtype\": \"number\",\n        \"std\": 19,\n        \"min\": 0,\n        \"max\": 122,\n        \"num_unique_values\": 47,\n        \"samples\": [\n          86,\n          46,\n          85\n        ],\n        \"semantic_type\": \"\",\n        \"description\": \"\"\n      }\n    },\n    {\n      \"column\": \"SkinThickness\",\n      \"properties\": {\n        \"dtype\": \"number\",\n        \"std\": 15,\n        \"min\": 0,\n        \"max\": 99,\n        \"num_unique_values\": 51,\n        \"samples\": [\n          7,\n          12,\n          48\n        ],\n        \"semantic_type\": \"\",\n        \"description\": \"\"\n      }\n    },\n    {\n      \"column\": \"Insulin\",\n      \"properties\": {\n        \"dtype\": \"number\",\n        \"std\": 115,\n        \"min\": 0,\n        \"max\": 846,\n        \"num_unique_values\": 186,\n        \"samples\": [\n          52,\n          41,\n          183\n        ],\n        \"semantic_type\": \"\",\n        \"description\": \"\"\n      }\n    },\n    {\n      \"column\": \"BMI\",\n      \"properties\": {\n        \"dtype\": \"number\",\n        \"std\": 7.884160320375446,\n        \"min\": 0.0,\n        \"max\": 67.1,\n        \"num_unique_values\": 248,\n        \"samples\": [\n          19.9,\n          31.0,\n          38.1\n        ],\n        \"semantic_type\": \"\",\n        \"description\": \"\"\n      }\n    },\n    {\n      \"column\": \"DiabetesPedigreeFunction\",\n      \"properties\": {\n        \"dtype\": \"number\",\n        \"std\": 254.4316591124471,\n        \"min\": 0.1,\n        \"max\": 997.0,\n        \"num_unique_values\": 517,\n        \"samples\": [\n          1.731,\n          426.0,\n          138.0\n        ],\n        \"semantic_type\": \"\",\n        \"description\": \"\"\n      }\n    },\n    {\n      \"column\": \"Age\",\n      \"properties\": {\n        \"dtype\": \"number\",\n        \"std\": 11,\n        \"min\": 21,\n        \"max\": 81,\n        \"num_unique_values\": 52,\n        \"samples\": [\n          60,\n          47,\n          72\n        ],\n        \"semantic_type\": \"\",\n        \"description\": \"\"\n      }\n    },\n    {\n      \"column\": \"Outcome\",\n      \"properties\": {\n        \"dtype\": \"number\",\n        \"std\": 0,\n        \"min\": 0,\n        \"max\": 1,\n        \"num_unique_values\": 2,\n        \"samples\": [\n          0,\n          1\n        ],\n        \"semantic_type\": \"\",\n        \"description\": \"\"\n      }\n    }\n  ]\n}"
            }
          },
          "metadata": {},
          "execution_count": 8
        }
      ]
    },
    {
      "metadata": {
        "id": "xa0zpTqypH8S"
      },
      "cell_type": "markdown",
      "source": [
        "## 1.1 Pima Indians Diabetes Database\n",
        "\n",
        "This dataset is originally from the National Institute of Diabetes and Digestive and Kidney Diseases. The objective of the dataset is to diagnostically predict whether or not a patient has diabetes, based on certain diagnostic measurements included in the dataset. Several constraints were placed on the selection of these instances from a larger database. In particular, **all patients here are females at least 21 years old of Pima Indian heritage**.\n",
        "\n",
        "The datasets consists of several medical predictor variables and one target variable, **Outcome**. Predictor variables includes the number of pregnancies the patient has had, their BMI, insulin level, age, and so on.\n",
        "\n",
        "We build a **machine learning model** to accurately predict whether or not the patients in the dataset have **diabetes or not.**\n",
        "\n",
        "- **Pregnancies**: Number of times pregnant\n",
        "- **Glucose**: Plasma glucose concentration a 2 hours in an oral glucose tolerance test\n",
        "- **BloodPressure**: Diastolic blood pressure (mm Hg)\n",
        "- **SkinThickness**: Triceps skin fold thickness (mm)\n",
        "- **Insulin**: 2-Hour serum insulin (mu U/ml)\n",
        "- **BMI**: Body mass index (weight in kg/(height in m)^2)\n",
        "- **DiabetesPedigreeFunction**: Diabetes pedigree function\n",
        "- **Age**: Age (years)\n",
        "- **Outcome**: Class variable (0 or 1) 268 of 768 are 1, the others are 0"
      ]
    },
    {
      "metadata": {
        "id": "qvLses-GpH8W"
      },
      "cell_type": "markdown",
      "source": [
        "## 1.2 General Information on Variables"
      ]
    },
    {
      "metadata": {
        "id": "99QyPYrApH8W"
      },
      "cell_type": "markdown",
      "source": [
        "### a. Glucose Tolerance Test\n",
        "It is a blood test that involves taking multiple blood samples over time, usually 2 hours.It used to diagnose diabetes. The results can be classified as normal, impaired, or abnormal.\n",
        "* **Normal Results for Diabetes ->** Two-hour glucose level less than 140 mg/dL\n",
        "\n",
        "* **Impaired Results for Diabetes ->** Two-hour glucose level 140 to 200 mg/dL\n",
        "\n",
        "* **Abnormal (Diagnostic) Results for Diabetes ->** Two-hour glucose level greater than 200 mg/dL\n",
        "\n"
      ]
    },
    {
      "metadata": {
        "id": "x07-j44kpH8X"
      },
      "cell_type": "markdown",
      "source": [
        "### b. BloodPressure\n",
        "The diastolic reading, or the bottom number, is the pressure in the arteries when the heart rests between beats. This is the time when the heart fills with blood and gets oxygen. A normal diastolic blood pressure is lower than 80. A reading of 90 or higher means you have high blood pressure.\n",
        "\n",
        "* **Normal**: Systolic below 120 and diastolic below 80\n",
        "* **Elevated**: Systolic 120–129 and diastolic under 80\n",
        "* **Hypertension stage 1**: Systolic 130–139 and diastolic 80–89\n",
        "* **Hypertension stage 2**: Systolic 140-plus and diastolic 90 or more\n",
        "* **Hypertensive crisis**: Systolic higher than 180 and diastolic above 120."
      ]
    },
    {
      "metadata": {
        "id": "KESO_uonpH8X"
      },
      "cell_type": "markdown",
      "source": [
        "### c. BMI\n",
        "\n",
        "The standard weight status categories associated with BMI ranges for adults are shown in the following table.\n",
        "\n",
        "* Below 18.5 -> **Underweight**\n",
        "* 18.5 – 24.9 -> **Normal or Healthy Weight**\n",
        "* 25.0 – 29.9 -> **Overweight**\n",
        "* 30.0 and Above -> **Obese**"
      ]
    },
    {
      "metadata": {
        "id": "KLt1gDZgpH8Y"
      },
      "cell_type": "markdown",
      "source": [
        "### d. Triceps Skinfolds\n",
        "For adults, the standard normal values for triceps skinfolds are:\n",
        "* 18.0mm (women)"
      ]
    },
    {
      "metadata": {
        "id": "JJW1meAFpH8a"
      },
      "cell_type": "markdown",
      "source": [
        "# 2.&nbsp;Exploratory Data Analysis"
      ]
    },
    {
      "metadata": {
        "trusted": true,
        "id": "BIj-WCO7pH8a",
        "outputId": "db5c46f5-eb55-4824-cb76-3bd5a8919377",
        "colab": {
          "base_uri": "https://localhost:8080/",
          "height": 206
        }
      },
      "cell_type": "code",
      "source": [
        "df.head()"
      ],
      "execution_count": 9,
      "outputs": [
        {
          "output_type": "execute_result",
          "data": {
            "text/plain": [
              "   Pregnancies  Glucose  BloodPressure  SkinThickness  Insulin   BMI  \\\n",
              "0            6      148             72             35        0  33.6   \n",
              "1            1       85             66             29        0  26.6   \n",
              "2            8      183             64              0        0  23.3   \n",
              "3            1       89             66             23       94  28.1   \n",
              "4            0      137             40             35      168  43.1   \n",
              "\n",
              "   DiabetesPedigreeFunction  Age  Outcome  \n",
              "0                   627.000   50        1  \n",
              "1                   351.000   31        0  \n",
              "2                   672.000   32        1  \n",
              "3                   167.000   21        0  \n",
              "4                     2.288   33        1  "
            ],
            "text/html": [
              "\n",
              "  <div id=\"df-1a24806b-1556-4b92-b15d-ac17135cd91d\" class=\"colab-df-container\">\n",
              "    <div>\n",
              "<style scoped>\n",
              "    .dataframe tbody tr th:only-of-type {\n",
              "        vertical-align: middle;\n",
              "    }\n",
              "\n",
              "    .dataframe tbody tr th {\n",
              "        vertical-align: top;\n",
              "    }\n",
              "\n",
              "    .dataframe thead th {\n",
              "        text-align: right;\n",
              "    }\n",
              "</style>\n",
              "<table border=\"1\" class=\"dataframe\">\n",
              "  <thead>\n",
              "    <tr style=\"text-align: right;\">\n",
              "      <th></th>\n",
              "      <th>Pregnancies</th>\n",
              "      <th>Glucose</th>\n",
              "      <th>BloodPressure</th>\n",
              "      <th>SkinThickness</th>\n",
              "      <th>Insulin</th>\n",
              "      <th>BMI</th>\n",
              "      <th>DiabetesPedigreeFunction</th>\n",
              "      <th>Age</th>\n",
              "      <th>Outcome</th>\n",
              "    </tr>\n",
              "  </thead>\n",
              "  <tbody>\n",
              "    <tr>\n",
              "      <th>0</th>\n",
              "      <td>6</td>\n",
              "      <td>148</td>\n",
              "      <td>72</td>\n",
              "      <td>35</td>\n",
              "      <td>0</td>\n",
              "      <td>33.6</td>\n",
              "      <td>627.000</td>\n",
              "      <td>50</td>\n",
              "      <td>1</td>\n",
              "    </tr>\n",
              "    <tr>\n",
              "      <th>1</th>\n",
              "      <td>1</td>\n",
              "      <td>85</td>\n",
              "      <td>66</td>\n",
              "      <td>29</td>\n",
              "      <td>0</td>\n",
              "      <td>26.6</td>\n",
              "      <td>351.000</td>\n",
              "      <td>31</td>\n",
              "      <td>0</td>\n",
              "    </tr>\n",
              "    <tr>\n",
              "      <th>2</th>\n",
              "      <td>8</td>\n",
              "      <td>183</td>\n",
              "      <td>64</td>\n",
              "      <td>0</td>\n",
              "      <td>0</td>\n",
              "      <td>23.3</td>\n",
              "      <td>672.000</td>\n",
              "      <td>32</td>\n",
              "      <td>1</td>\n",
              "    </tr>\n",
              "    <tr>\n",
              "      <th>3</th>\n",
              "      <td>1</td>\n",
              "      <td>89</td>\n",
              "      <td>66</td>\n",
              "      <td>23</td>\n",
              "      <td>94</td>\n",
              "      <td>28.1</td>\n",
              "      <td>167.000</td>\n",
              "      <td>21</td>\n",
              "      <td>0</td>\n",
              "    </tr>\n",
              "    <tr>\n",
              "      <th>4</th>\n",
              "      <td>0</td>\n",
              "      <td>137</td>\n",
              "      <td>40</td>\n",
              "      <td>35</td>\n",
              "      <td>168</td>\n",
              "      <td>43.1</td>\n",
              "      <td>2.288</td>\n",
              "      <td>33</td>\n",
              "      <td>1</td>\n",
              "    </tr>\n",
              "  </tbody>\n",
              "</table>\n",
              "</div>\n",
              "    <div class=\"colab-df-buttons\">\n",
              "\n",
              "  <div class=\"colab-df-container\">\n",
              "    <button class=\"colab-df-convert\" onclick=\"convertToInteractive('df-1a24806b-1556-4b92-b15d-ac17135cd91d')\"\n",
              "            title=\"Convert this dataframe to an interactive table.\"\n",
              "            style=\"display:none;\">\n",
              "\n",
              "  <svg xmlns=\"http://www.w3.org/2000/svg\" height=\"24px\" viewBox=\"0 -960 960 960\">\n",
              "    <path d=\"M120-120v-720h720v720H120Zm60-500h600v-160H180v160Zm220 220h160v-160H400v160Zm0 220h160v-160H400v160ZM180-400h160v-160H180v160Zm440 0h160v-160H620v160ZM180-180h160v-160H180v160Zm440 0h160v-160H620v160Z\"/>\n",
              "  </svg>\n",
              "    </button>\n",
              "\n",
              "  <style>\n",
              "    .colab-df-container {\n",
              "      display:flex;\n",
              "      gap: 12px;\n",
              "    }\n",
              "\n",
              "    .colab-df-convert {\n",
              "      background-color: #E8F0FE;\n",
              "      border: none;\n",
              "      border-radius: 50%;\n",
              "      cursor: pointer;\n",
              "      display: none;\n",
              "      fill: #1967D2;\n",
              "      height: 32px;\n",
              "      padding: 0 0 0 0;\n",
              "      width: 32px;\n",
              "    }\n",
              "\n",
              "    .colab-df-convert:hover {\n",
              "      background-color: #E2EBFA;\n",
              "      box-shadow: 0px 1px 2px rgba(60, 64, 67, 0.3), 0px 1px 3px 1px rgba(60, 64, 67, 0.15);\n",
              "      fill: #174EA6;\n",
              "    }\n",
              "\n",
              "    .colab-df-buttons div {\n",
              "      margin-bottom: 4px;\n",
              "    }\n",
              "\n",
              "    [theme=dark] .colab-df-convert {\n",
              "      background-color: #3B4455;\n",
              "      fill: #D2E3FC;\n",
              "    }\n",
              "\n",
              "    [theme=dark] .colab-df-convert:hover {\n",
              "      background-color: #434B5C;\n",
              "      box-shadow: 0px 1px 3px 1px rgba(0, 0, 0, 0.15);\n",
              "      filter: drop-shadow(0px 1px 2px rgba(0, 0, 0, 0.3));\n",
              "      fill: #FFFFFF;\n",
              "    }\n",
              "  </style>\n",
              "\n",
              "    <script>\n",
              "      const buttonEl =\n",
              "        document.querySelector('#df-1a24806b-1556-4b92-b15d-ac17135cd91d button.colab-df-convert');\n",
              "      buttonEl.style.display =\n",
              "        google.colab.kernel.accessAllowed ? 'block' : 'none';\n",
              "\n",
              "      async function convertToInteractive(key) {\n",
              "        const element = document.querySelector('#df-1a24806b-1556-4b92-b15d-ac17135cd91d');\n",
              "        const dataTable =\n",
              "          await google.colab.kernel.invokeFunction('convertToInteractive',\n",
              "                                                    [key], {});\n",
              "        if (!dataTable) return;\n",
              "\n",
              "        const docLinkHtml = 'Like what you see? Visit the ' +\n",
              "          '<a target=\"_blank\" href=https://colab.research.google.com/notebooks/data_table.ipynb>data table notebook</a>'\n",
              "          + ' to learn more about interactive tables.';\n",
              "        element.innerHTML = '';\n",
              "        dataTable['output_type'] = 'display_data';\n",
              "        await google.colab.output.renderOutput(dataTable, element);\n",
              "        const docLink = document.createElement('div');\n",
              "        docLink.innerHTML = docLinkHtml;\n",
              "        element.appendChild(docLink);\n",
              "      }\n",
              "    </script>\n",
              "  </div>\n",
              "\n",
              "\n",
              "<div id=\"df-2abce85d-b33c-4063-b859-aff23d39d2c8\">\n",
              "  <button class=\"colab-df-quickchart\" onclick=\"quickchart('df-2abce85d-b33c-4063-b859-aff23d39d2c8')\"\n",
              "            title=\"Suggest charts\"\n",
              "            style=\"display:none;\">\n",
              "\n",
              "<svg xmlns=\"http://www.w3.org/2000/svg\" height=\"24px\"viewBox=\"0 0 24 24\"\n",
              "     width=\"24px\">\n",
              "    <g>\n",
              "        <path d=\"M19 3H5c-1.1 0-2 .9-2 2v14c0 1.1.9 2 2 2h14c1.1 0 2-.9 2-2V5c0-1.1-.9-2-2-2zM9 17H7v-7h2v7zm4 0h-2V7h2v10zm4 0h-2v-4h2v4z\"/>\n",
              "    </g>\n",
              "</svg>\n",
              "  </button>\n",
              "\n",
              "<style>\n",
              "  .colab-df-quickchart {\n",
              "      --bg-color: #E8F0FE;\n",
              "      --fill-color: #1967D2;\n",
              "      --hover-bg-color: #E2EBFA;\n",
              "      --hover-fill-color: #174EA6;\n",
              "      --disabled-fill-color: #AAA;\n",
              "      --disabled-bg-color: #DDD;\n",
              "  }\n",
              "\n",
              "  [theme=dark] .colab-df-quickchart {\n",
              "      --bg-color: #3B4455;\n",
              "      --fill-color: #D2E3FC;\n",
              "      --hover-bg-color: #434B5C;\n",
              "      --hover-fill-color: #FFFFFF;\n",
              "      --disabled-bg-color: #3B4455;\n",
              "      --disabled-fill-color: #666;\n",
              "  }\n",
              "\n",
              "  .colab-df-quickchart {\n",
              "    background-color: var(--bg-color);\n",
              "    border: none;\n",
              "    border-radius: 50%;\n",
              "    cursor: pointer;\n",
              "    display: none;\n",
              "    fill: var(--fill-color);\n",
              "    height: 32px;\n",
              "    padding: 0;\n",
              "    width: 32px;\n",
              "  }\n",
              "\n",
              "  .colab-df-quickchart:hover {\n",
              "    background-color: var(--hover-bg-color);\n",
              "    box-shadow: 0 1px 2px rgba(60, 64, 67, 0.3), 0 1px 3px 1px rgba(60, 64, 67, 0.15);\n",
              "    fill: var(--button-hover-fill-color);\n",
              "  }\n",
              "\n",
              "  .colab-df-quickchart-complete:disabled,\n",
              "  .colab-df-quickchart-complete:disabled:hover {\n",
              "    background-color: var(--disabled-bg-color);\n",
              "    fill: var(--disabled-fill-color);\n",
              "    box-shadow: none;\n",
              "  }\n",
              "\n",
              "  .colab-df-spinner {\n",
              "    border: 2px solid var(--fill-color);\n",
              "    border-color: transparent;\n",
              "    border-bottom-color: var(--fill-color);\n",
              "    animation:\n",
              "      spin 1s steps(1) infinite;\n",
              "  }\n",
              "\n",
              "  @keyframes spin {\n",
              "    0% {\n",
              "      border-color: transparent;\n",
              "      border-bottom-color: var(--fill-color);\n",
              "      border-left-color: var(--fill-color);\n",
              "    }\n",
              "    20% {\n",
              "      border-color: transparent;\n",
              "      border-left-color: var(--fill-color);\n",
              "      border-top-color: var(--fill-color);\n",
              "    }\n",
              "    30% {\n",
              "      border-color: transparent;\n",
              "      border-left-color: var(--fill-color);\n",
              "      border-top-color: var(--fill-color);\n",
              "      border-right-color: var(--fill-color);\n",
              "    }\n",
              "    40% {\n",
              "      border-color: transparent;\n",
              "      border-right-color: var(--fill-color);\n",
              "      border-top-color: var(--fill-color);\n",
              "    }\n",
              "    60% {\n",
              "      border-color: transparent;\n",
              "      border-right-color: var(--fill-color);\n",
              "    }\n",
              "    80% {\n",
              "      border-color: transparent;\n",
              "      border-right-color: var(--fill-color);\n",
              "      border-bottom-color: var(--fill-color);\n",
              "    }\n",
              "    90% {\n",
              "      border-color: transparent;\n",
              "      border-bottom-color: var(--fill-color);\n",
              "    }\n",
              "  }\n",
              "</style>\n",
              "\n",
              "  <script>\n",
              "    async function quickchart(key) {\n",
              "      const quickchartButtonEl =\n",
              "        document.querySelector('#' + key + ' button');\n",
              "      quickchartButtonEl.disabled = true;  // To prevent multiple clicks.\n",
              "      quickchartButtonEl.classList.add('colab-df-spinner');\n",
              "      try {\n",
              "        const charts = await google.colab.kernel.invokeFunction(\n",
              "            'suggestCharts', [key], {});\n",
              "      } catch (error) {\n",
              "        console.error('Error during call to suggestCharts:', error);\n",
              "      }\n",
              "      quickchartButtonEl.classList.remove('colab-df-spinner');\n",
              "      quickchartButtonEl.classList.add('colab-df-quickchart-complete');\n",
              "    }\n",
              "    (() => {\n",
              "      let quickchartButtonEl =\n",
              "        document.querySelector('#df-2abce85d-b33c-4063-b859-aff23d39d2c8 button');\n",
              "      quickchartButtonEl.style.display =\n",
              "        google.colab.kernel.accessAllowed ? 'block' : 'none';\n",
              "    })();\n",
              "  </script>\n",
              "</div>\n",
              "    </div>\n",
              "  </div>\n"
            ],
            "application/vnd.google.colaboratory.intrinsic+json": {
              "type": "dataframe",
              "variable_name": "df",
              "summary": "{\n  \"name\": \"df\",\n  \"rows\": 768,\n  \"fields\": [\n    {\n      \"column\": \"Pregnancies\",\n      \"properties\": {\n        \"dtype\": \"number\",\n        \"std\": 3,\n        \"min\": 0,\n        \"max\": 17,\n        \"num_unique_values\": 17,\n        \"samples\": [\n          6,\n          1,\n          3\n        ],\n        \"semantic_type\": \"\",\n        \"description\": \"\"\n      }\n    },\n    {\n      \"column\": \"Glucose\",\n      \"properties\": {\n        \"dtype\": \"number\",\n        \"std\": 31,\n        \"min\": 0,\n        \"max\": 199,\n        \"num_unique_values\": 136,\n        \"samples\": [\n          151,\n          101,\n          112\n        ],\n        \"semantic_type\": \"\",\n        \"description\": \"\"\n      }\n    },\n    {\n      \"column\": \"BloodPressure\",\n      \"properties\": {\n        \"dtype\": \"number\",\n        \"std\": 19,\n        \"min\": 0,\n        \"max\": 122,\n        \"num_unique_values\": 47,\n        \"samples\": [\n          86,\n          46,\n          85\n        ],\n        \"semantic_type\": \"\",\n        \"description\": \"\"\n      }\n    },\n    {\n      \"column\": \"SkinThickness\",\n      \"properties\": {\n        \"dtype\": \"number\",\n        \"std\": 15,\n        \"min\": 0,\n        \"max\": 99,\n        \"num_unique_values\": 51,\n        \"samples\": [\n          7,\n          12,\n          48\n        ],\n        \"semantic_type\": \"\",\n        \"description\": \"\"\n      }\n    },\n    {\n      \"column\": \"Insulin\",\n      \"properties\": {\n        \"dtype\": \"number\",\n        \"std\": 115,\n        \"min\": 0,\n        \"max\": 846,\n        \"num_unique_values\": 186,\n        \"samples\": [\n          52,\n          41,\n          183\n        ],\n        \"semantic_type\": \"\",\n        \"description\": \"\"\n      }\n    },\n    {\n      \"column\": \"BMI\",\n      \"properties\": {\n        \"dtype\": \"number\",\n        \"std\": 7.884160320375446,\n        \"min\": 0.0,\n        \"max\": 67.1,\n        \"num_unique_values\": 248,\n        \"samples\": [\n          19.9,\n          31.0,\n          38.1\n        ],\n        \"semantic_type\": \"\",\n        \"description\": \"\"\n      }\n    },\n    {\n      \"column\": \"DiabetesPedigreeFunction\",\n      \"properties\": {\n        \"dtype\": \"number\",\n        \"std\": 254.4316591124471,\n        \"min\": 0.1,\n        \"max\": 997.0,\n        \"num_unique_values\": 517,\n        \"samples\": [\n          1.731,\n          426.0,\n          138.0\n        ],\n        \"semantic_type\": \"\",\n        \"description\": \"\"\n      }\n    },\n    {\n      \"column\": \"Age\",\n      \"properties\": {\n        \"dtype\": \"number\",\n        \"std\": 11,\n        \"min\": 21,\n        \"max\": 81,\n        \"num_unique_values\": 52,\n        \"samples\": [\n          60,\n          47,\n          72\n        ],\n        \"semantic_type\": \"\",\n        \"description\": \"\"\n      }\n    },\n    {\n      \"column\": \"Outcome\",\n      \"properties\": {\n        \"dtype\": \"number\",\n        \"std\": 0,\n        \"min\": 0,\n        \"max\": 1,\n        \"num_unique_values\": 2,\n        \"samples\": [\n          0,\n          1\n        ],\n        \"semantic_type\": \"\",\n        \"description\": \"\"\n      }\n    }\n  ]\n}"
            }
          },
          "metadata": {},
          "execution_count": 9
        }
      ]
    },
    {
      "metadata": {
        "trusted": true,
        "id": "GQsRqtGUpH8b",
        "outputId": "c54739e9-b1fc-4e53-829a-c7ef6e1d51e8",
        "colab": {
          "base_uri": "https://localhost:8080/",
          "height": 206
        }
      },
      "cell_type": "code",
      "source": [
        "df.tail()"
      ],
      "execution_count": 10,
      "outputs": [
        {
          "output_type": "execute_result",
          "data": {
            "text/plain": [
              "     Pregnancies  Glucose  BloodPressure  SkinThickness  Insulin   BMI  \\\n",
              "763           10      101             76             48      180  32.9   \n",
              "764            2      122             70             27        0  36.8   \n",
              "765            5      121             72             23      112  26.2   \n",
              "766            1      126             60              0        0  30.1   \n",
              "767            1       93             70             31        0  30.4   \n",
              "\n",
              "     DiabetesPedigreeFunction  Age  Outcome  \n",
              "763                    171.00   63        0  \n",
              "764                      0.34   27        0  \n",
              "765                    245.00   30        0  \n",
              "766                    349.00   47        1  \n",
              "767                    315.00   23        0  "
            ],
            "text/html": [
              "\n",
              "  <div id=\"df-8e4f7d15-a1a7-4148-a98a-63e49e0a91fa\" class=\"colab-df-container\">\n",
              "    <div>\n",
              "<style scoped>\n",
              "    .dataframe tbody tr th:only-of-type {\n",
              "        vertical-align: middle;\n",
              "    }\n",
              "\n",
              "    .dataframe tbody tr th {\n",
              "        vertical-align: top;\n",
              "    }\n",
              "\n",
              "    .dataframe thead th {\n",
              "        text-align: right;\n",
              "    }\n",
              "</style>\n",
              "<table border=\"1\" class=\"dataframe\">\n",
              "  <thead>\n",
              "    <tr style=\"text-align: right;\">\n",
              "      <th></th>\n",
              "      <th>Pregnancies</th>\n",
              "      <th>Glucose</th>\n",
              "      <th>BloodPressure</th>\n",
              "      <th>SkinThickness</th>\n",
              "      <th>Insulin</th>\n",
              "      <th>BMI</th>\n",
              "      <th>DiabetesPedigreeFunction</th>\n",
              "      <th>Age</th>\n",
              "      <th>Outcome</th>\n",
              "    </tr>\n",
              "  </thead>\n",
              "  <tbody>\n",
              "    <tr>\n",
              "      <th>763</th>\n",
              "      <td>10</td>\n",
              "      <td>101</td>\n",
              "      <td>76</td>\n",
              "      <td>48</td>\n",
              "      <td>180</td>\n",
              "      <td>32.9</td>\n",
              "      <td>171.00</td>\n",
              "      <td>63</td>\n",
              "      <td>0</td>\n",
              "    </tr>\n",
              "    <tr>\n",
              "      <th>764</th>\n",
              "      <td>2</td>\n",
              "      <td>122</td>\n",
              "      <td>70</td>\n",
              "      <td>27</td>\n",
              "      <td>0</td>\n",
              "      <td>36.8</td>\n",
              "      <td>0.34</td>\n",
              "      <td>27</td>\n",
              "      <td>0</td>\n",
              "    </tr>\n",
              "    <tr>\n",
              "      <th>765</th>\n",
              "      <td>5</td>\n",
              "      <td>121</td>\n",
              "      <td>72</td>\n",
              "      <td>23</td>\n",
              "      <td>112</td>\n",
              "      <td>26.2</td>\n",
              "      <td>245.00</td>\n",
              "      <td>30</td>\n",
              "      <td>0</td>\n",
              "    </tr>\n",
              "    <tr>\n",
              "      <th>766</th>\n",
              "      <td>1</td>\n",
              "      <td>126</td>\n",
              "      <td>60</td>\n",
              "      <td>0</td>\n",
              "      <td>0</td>\n",
              "      <td>30.1</td>\n",
              "      <td>349.00</td>\n",
              "      <td>47</td>\n",
              "      <td>1</td>\n",
              "    </tr>\n",
              "    <tr>\n",
              "      <th>767</th>\n",
              "      <td>1</td>\n",
              "      <td>93</td>\n",
              "      <td>70</td>\n",
              "      <td>31</td>\n",
              "      <td>0</td>\n",
              "      <td>30.4</td>\n",
              "      <td>315.00</td>\n",
              "      <td>23</td>\n",
              "      <td>0</td>\n",
              "    </tr>\n",
              "  </tbody>\n",
              "</table>\n",
              "</div>\n",
              "    <div class=\"colab-df-buttons\">\n",
              "\n",
              "  <div class=\"colab-df-container\">\n",
              "    <button class=\"colab-df-convert\" onclick=\"convertToInteractive('df-8e4f7d15-a1a7-4148-a98a-63e49e0a91fa')\"\n",
              "            title=\"Convert this dataframe to an interactive table.\"\n",
              "            style=\"display:none;\">\n",
              "\n",
              "  <svg xmlns=\"http://www.w3.org/2000/svg\" height=\"24px\" viewBox=\"0 -960 960 960\">\n",
              "    <path d=\"M120-120v-720h720v720H120Zm60-500h600v-160H180v160Zm220 220h160v-160H400v160Zm0 220h160v-160H400v160ZM180-400h160v-160H180v160Zm440 0h160v-160H620v160ZM180-180h160v-160H180v160Zm440 0h160v-160H620v160Z\"/>\n",
              "  </svg>\n",
              "    </button>\n",
              "\n",
              "  <style>\n",
              "    .colab-df-container {\n",
              "      display:flex;\n",
              "      gap: 12px;\n",
              "    }\n",
              "\n",
              "    .colab-df-convert {\n",
              "      background-color: #E8F0FE;\n",
              "      border: none;\n",
              "      border-radius: 50%;\n",
              "      cursor: pointer;\n",
              "      display: none;\n",
              "      fill: #1967D2;\n",
              "      height: 32px;\n",
              "      padding: 0 0 0 0;\n",
              "      width: 32px;\n",
              "    }\n",
              "\n",
              "    .colab-df-convert:hover {\n",
              "      background-color: #E2EBFA;\n",
              "      box-shadow: 0px 1px 2px rgba(60, 64, 67, 0.3), 0px 1px 3px 1px rgba(60, 64, 67, 0.15);\n",
              "      fill: #174EA6;\n",
              "    }\n",
              "\n",
              "    .colab-df-buttons div {\n",
              "      margin-bottom: 4px;\n",
              "    }\n",
              "\n",
              "    [theme=dark] .colab-df-convert {\n",
              "      background-color: #3B4455;\n",
              "      fill: #D2E3FC;\n",
              "    }\n",
              "\n",
              "    [theme=dark] .colab-df-convert:hover {\n",
              "      background-color: #434B5C;\n",
              "      box-shadow: 0px 1px 3px 1px rgba(0, 0, 0, 0.15);\n",
              "      filter: drop-shadow(0px 1px 2px rgba(0, 0, 0, 0.3));\n",
              "      fill: #FFFFFF;\n",
              "    }\n",
              "  </style>\n",
              "\n",
              "    <script>\n",
              "      const buttonEl =\n",
              "        document.querySelector('#df-8e4f7d15-a1a7-4148-a98a-63e49e0a91fa button.colab-df-convert');\n",
              "      buttonEl.style.display =\n",
              "        google.colab.kernel.accessAllowed ? 'block' : 'none';\n",
              "\n",
              "      async function convertToInteractive(key) {\n",
              "        const element = document.querySelector('#df-8e4f7d15-a1a7-4148-a98a-63e49e0a91fa');\n",
              "        const dataTable =\n",
              "          await google.colab.kernel.invokeFunction('convertToInteractive',\n",
              "                                                    [key], {});\n",
              "        if (!dataTable) return;\n",
              "\n",
              "        const docLinkHtml = 'Like what you see? Visit the ' +\n",
              "          '<a target=\"_blank\" href=https://colab.research.google.com/notebooks/data_table.ipynb>data table notebook</a>'\n",
              "          + ' to learn more about interactive tables.';\n",
              "        element.innerHTML = '';\n",
              "        dataTable['output_type'] = 'display_data';\n",
              "        await google.colab.output.renderOutput(dataTable, element);\n",
              "        const docLink = document.createElement('div');\n",
              "        docLink.innerHTML = docLinkHtml;\n",
              "        element.appendChild(docLink);\n",
              "      }\n",
              "    </script>\n",
              "  </div>\n",
              "\n",
              "\n",
              "<div id=\"df-fab94b6d-9c50-43ff-83d0-b8dc9b2b2035\">\n",
              "  <button class=\"colab-df-quickchart\" onclick=\"quickchart('df-fab94b6d-9c50-43ff-83d0-b8dc9b2b2035')\"\n",
              "            title=\"Suggest charts\"\n",
              "            style=\"display:none;\">\n",
              "\n",
              "<svg xmlns=\"http://www.w3.org/2000/svg\" height=\"24px\"viewBox=\"0 0 24 24\"\n",
              "     width=\"24px\">\n",
              "    <g>\n",
              "        <path d=\"M19 3H5c-1.1 0-2 .9-2 2v14c0 1.1.9 2 2 2h14c1.1 0 2-.9 2-2V5c0-1.1-.9-2-2-2zM9 17H7v-7h2v7zm4 0h-2V7h2v10zm4 0h-2v-4h2v4z\"/>\n",
              "    </g>\n",
              "</svg>\n",
              "  </button>\n",
              "\n",
              "<style>\n",
              "  .colab-df-quickchart {\n",
              "      --bg-color: #E8F0FE;\n",
              "      --fill-color: #1967D2;\n",
              "      --hover-bg-color: #E2EBFA;\n",
              "      --hover-fill-color: #174EA6;\n",
              "      --disabled-fill-color: #AAA;\n",
              "      --disabled-bg-color: #DDD;\n",
              "  }\n",
              "\n",
              "  [theme=dark] .colab-df-quickchart {\n",
              "      --bg-color: #3B4455;\n",
              "      --fill-color: #D2E3FC;\n",
              "      --hover-bg-color: #434B5C;\n",
              "      --hover-fill-color: #FFFFFF;\n",
              "      --disabled-bg-color: #3B4455;\n",
              "      --disabled-fill-color: #666;\n",
              "  }\n",
              "\n",
              "  .colab-df-quickchart {\n",
              "    background-color: var(--bg-color);\n",
              "    border: none;\n",
              "    border-radius: 50%;\n",
              "    cursor: pointer;\n",
              "    display: none;\n",
              "    fill: var(--fill-color);\n",
              "    height: 32px;\n",
              "    padding: 0;\n",
              "    width: 32px;\n",
              "  }\n",
              "\n",
              "  .colab-df-quickchart:hover {\n",
              "    background-color: var(--hover-bg-color);\n",
              "    box-shadow: 0 1px 2px rgba(60, 64, 67, 0.3), 0 1px 3px 1px rgba(60, 64, 67, 0.15);\n",
              "    fill: var(--button-hover-fill-color);\n",
              "  }\n",
              "\n",
              "  .colab-df-quickchart-complete:disabled,\n",
              "  .colab-df-quickchart-complete:disabled:hover {\n",
              "    background-color: var(--disabled-bg-color);\n",
              "    fill: var(--disabled-fill-color);\n",
              "    box-shadow: none;\n",
              "  }\n",
              "\n",
              "  .colab-df-spinner {\n",
              "    border: 2px solid var(--fill-color);\n",
              "    border-color: transparent;\n",
              "    border-bottom-color: var(--fill-color);\n",
              "    animation:\n",
              "      spin 1s steps(1) infinite;\n",
              "  }\n",
              "\n",
              "  @keyframes spin {\n",
              "    0% {\n",
              "      border-color: transparent;\n",
              "      border-bottom-color: var(--fill-color);\n",
              "      border-left-color: var(--fill-color);\n",
              "    }\n",
              "    20% {\n",
              "      border-color: transparent;\n",
              "      border-left-color: var(--fill-color);\n",
              "      border-top-color: var(--fill-color);\n",
              "    }\n",
              "    30% {\n",
              "      border-color: transparent;\n",
              "      border-left-color: var(--fill-color);\n",
              "      border-top-color: var(--fill-color);\n",
              "      border-right-color: var(--fill-color);\n",
              "    }\n",
              "    40% {\n",
              "      border-color: transparent;\n",
              "      border-right-color: var(--fill-color);\n",
              "      border-top-color: var(--fill-color);\n",
              "    }\n",
              "    60% {\n",
              "      border-color: transparent;\n",
              "      border-right-color: var(--fill-color);\n",
              "    }\n",
              "    80% {\n",
              "      border-color: transparent;\n",
              "      border-right-color: var(--fill-color);\n",
              "      border-bottom-color: var(--fill-color);\n",
              "    }\n",
              "    90% {\n",
              "      border-color: transparent;\n",
              "      border-bottom-color: var(--fill-color);\n",
              "    }\n",
              "  }\n",
              "</style>\n",
              "\n",
              "  <script>\n",
              "    async function quickchart(key) {\n",
              "      const quickchartButtonEl =\n",
              "        document.querySelector('#' + key + ' button');\n",
              "      quickchartButtonEl.disabled = true;  // To prevent multiple clicks.\n",
              "      quickchartButtonEl.classList.add('colab-df-spinner');\n",
              "      try {\n",
              "        const charts = await google.colab.kernel.invokeFunction(\n",
              "            'suggestCharts', [key], {});\n",
              "      } catch (error) {\n",
              "        console.error('Error during call to suggestCharts:', error);\n",
              "      }\n",
              "      quickchartButtonEl.classList.remove('colab-df-spinner');\n",
              "      quickchartButtonEl.classList.add('colab-df-quickchart-complete');\n",
              "    }\n",
              "    (() => {\n",
              "      let quickchartButtonEl =\n",
              "        document.querySelector('#df-fab94b6d-9c50-43ff-83d0-b8dc9b2b2035 button');\n",
              "      quickchartButtonEl.style.display =\n",
              "        google.colab.kernel.accessAllowed ? 'block' : 'none';\n",
              "    })();\n",
              "  </script>\n",
              "</div>\n",
              "    </div>\n",
              "  </div>\n"
            ],
            "application/vnd.google.colaboratory.intrinsic+json": {
              "type": "dataframe",
              "summary": "{\n  \"name\": \"df\",\n  \"rows\": 5,\n  \"fields\": [\n    {\n      \"column\": \"Pregnancies\",\n      \"properties\": {\n        \"dtype\": \"number\",\n        \"std\": 3,\n        \"min\": 1,\n        \"max\": 10,\n        \"num_unique_values\": 4,\n        \"samples\": [\n          2,\n          1,\n          10\n        ],\n        \"semantic_type\": \"\",\n        \"description\": \"\"\n      }\n    },\n    {\n      \"column\": \"Glucose\",\n      \"properties\": {\n        \"dtype\": \"number\",\n        \"std\": 14,\n        \"min\": 93,\n        \"max\": 126,\n        \"num_unique_values\": 5,\n        \"samples\": [\n          122,\n          93,\n          121\n        ],\n        \"semantic_type\": \"\",\n        \"description\": \"\"\n      }\n    },\n    {\n      \"column\": \"BloodPressure\",\n      \"properties\": {\n        \"dtype\": \"number\",\n        \"std\": 5,\n        \"min\": 60,\n        \"max\": 76,\n        \"num_unique_values\": 4,\n        \"samples\": [\n          70,\n          60,\n          76\n        ],\n        \"semantic_type\": \"\",\n        \"description\": \"\"\n      }\n    },\n    {\n      \"column\": \"SkinThickness\",\n      \"properties\": {\n        \"dtype\": \"number\",\n        \"std\": 17,\n        \"min\": 0,\n        \"max\": 48,\n        \"num_unique_values\": 5,\n        \"samples\": [\n          27,\n          31,\n          23\n        ],\n        \"semantic_type\": \"\",\n        \"description\": \"\"\n      }\n    },\n    {\n      \"column\": \"Insulin\",\n      \"properties\": {\n        \"dtype\": \"number\",\n        \"std\": 83,\n        \"min\": 0,\n        \"max\": 180,\n        \"num_unique_values\": 3,\n        \"samples\": [\n          180,\n          0,\n          112\n        ],\n        \"semantic_type\": \"\",\n        \"description\": \"\"\n      }\n    },\n    {\n      \"column\": \"BMI\",\n      \"properties\": {\n        \"dtype\": \"number\",\n        \"std\": 3.9073008586491,\n        \"min\": 26.2,\n        \"max\": 36.8,\n        \"num_unique_values\": 5,\n        \"samples\": [\n          36.8,\n          30.4,\n          26.2\n        ],\n        \"semantic_type\": \"\",\n        \"description\": \"\"\n      }\n    },\n    {\n      \"column\": \"DiabetesPedigreeFunction\",\n      \"properties\": {\n        \"dtype\": \"number\",\n        \"std\": 138.62288093961976,\n        \"min\": 0.34,\n        \"max\": 349.0,\n        \"num_unique_values\": 5,\n        \"samples\": [\n          0.34,\n          315.0,\n          245.0\n        ],\n        \"semantic_type\": \"\",\n        \"description\": \"\"\n      }\n    },\n    {\n      \"column\": \"Age\",\n      \"properties\": {\n        \"dtype\": \"number\",\n        \"std\": 16,\n        \"min\": 23,\n        \"max\": 63,\n        \"num_unique_values\": 5,\n        \"samples\": [\n          27,\n          23,\n          30\n        ],\n        \"semantic_type\": \"\",\n        \"description\": \"\"\n      }\n    },\n    {\n      \"column\": \"Outcome\",\n      \"properties\": {\n        \"dtype\": \"number\",\n        \"std\": 0,\n        \"min\": 0,\n        \"max\": 1,\n        \"num_unique_values\": 2,\n        \"samples\": [\n          1,\n          0\n        ],\n        \"semantic_type\": \"\",\n        \"description\": \"\"\n      }\n    }\n  ]\n}"
            }
          },
          "metadata": {},
          "execution_count": 10
        }
      ]
    },
    {
      "metadata": {
        "trusted": true,
        "id": "TPUzyob6pH8b",
        "outputId": "fab166d2-5a50-4b84-f8f5-526e26383cbd",
        "colab": {
          "base_uri": "https://localhost:8080/"
        }
      },
      "cell_type": "code",
      "source": [
        "df.shape"
      ],
      "execution_count": 11,
      "outputs": [
        {
          "output_type": "execute_result",
          "data": {
            "text/plain": [
              "(768, 9)"
            ]
          },
          "metadata": {},
          "execution_count": 11
        }
      ]
    },
    {
      "metadata": {
        "_uuid": "d629ff2d2480ee46fbb7e2d37f6b5fab8052498a",
        "_cell_guid": "79c7e3d0-c299-4dcb-8224-4455121ee9b0",
        "trusted": true,
        "id": "q_wmrHYvpH8b",
        "outputId": "6e780be4-c9da-4f5b-958d-b437708c04cd",
        "colab": {
          "base_uri": "https://localhost:8080/"
        }
      },
      "cell_type": "code",
      "source": [
        "df.info()"
      ],
      "execution_count": 12,
      "outputs": [
        {
          "output_type": "stream",
          "name": "stdout",
          "text": [
            "<class 'pandas.core.frame.DataFrame'>\n",
            "RangeIndex: 768 entries, 0 to 767\n",
            "Data columns (total 9 columns):\n",
            " #   Column                    Non-Null Count  Dtype  \n",
            "---  ------                    --------------  -----  \n",
            " 0   Pregnancies               768 non-null    int64  \n",
            " 1   Glucose                   768 non-null    int64  \n",
            " 2   BloodPressure             768 non-null    int64  \n",
            " 3   SkinThickness             768 non-null    int64  \n",
            " 4   Insulin                   768 non-null    int64  \n",
            " 5   BMI                       768 non-null    float64\n",
            " 6   DiabetesPedigreeFunction  768 non-null    float64\n",
            " 7   Age                       768 non-null    int64  \n",
            " 8   Outcome                   768 non-null    int64  \n",
            "dtypes: float64(2), int64(7)\n",
            "memory usage: 54.1 KB\n"
          ]
        }
      ]
    },
    {
      "metadata": {
        "trusted": true,
        "id": "tCWoqMPipH8b",
        "outputId": "4891dc3e-e4ee-4618-88fc-a0b67d9b55b7",
        "colab": {
          "base_uri": "https://localhost:8080/",
          "height": 332
        }
      },
      "cell_type": "code",
      "source": [
        "# Getting various summary statistics\n",
        "# There is notably a large difference between 99% and max values of predictors\n",
        "# “Insulin”, ”SkinThickness”, ”DiabetesPedigreeFunction”\n",
        "# There are extreme values-Outliers in our data set\n",
        "\n",
        "# See BMI Min: 0\n",
        "df.describe(\n",
        "    percentiles=[0.05, 0.25, 0.50, 0.75, 0.90, 0.95, 0.99]\n",
        ").T"
      ],
      "execution_count": 13,
      "outputs": [
        {
          "output_type": "execute_result",
          "data": {
            "text/plain": [
              "                          count        mean         std   min     5%    25%  \\\n",
              "Pregnancies               768.0    3.845052    3.369578   0.0   0.00    1.0   \n",
              "Glucose                   768.0  120.894531   31.972618   0.0  79.00   99.0   \n",
              "BloodPressure             768.0   69.105469   19.355807   0.0  38.70   62.0   \n",
              "SkinThickness             768.0   20.536458   15.952218   0.0   0.00    0.0   \n",
              "Insulin                   768.0   79.799479  115.244002   0.0   0.00    0.0   \n",
              "BMI                       768.0   31.992578    7.884160   0.0  21.80   27.3   \n",
              "DiabetesPedigreeFunction  768.0  347.079349  254.431659   0.1   0.34  165.0   \n",
              "Age                       768.0   33.240885   11.760232  21.0  21.00   24.0   \n",
              "Outcome                   768.0    0.348958    0.476951   0.0   0.00    0.0   \n",
              "\n",
              "                            50%     75%    90%      95%      99%    max  \n",
              "Pregnancies                 3.0    6.00    9.0   10.000   13.000   17.0  \n",
              "Glucose                   117.0  140.25  167.0  181.000  196.000  199.0  \n",
              "BloodPressure              72.0   80.00   88.0   90.000  106.000  122.0  \n",
              "SkinThickness              23.0   32.00   40.0   44.000   51.330   99.0  \n",
              "Insulin                    30.5  127.25  210.0  293.000  519.900  846.0  \n",
              "BMI                        32.0   36.60   41.5   44.395   50.759   67.1  \n",
              "DiabetesPedigreeFunction  295.5  527.25  722.9  827.300  950.980  997.0  \n",
              "Age                        29.0   41.00   51.0   58.000   67.000   81.0  \n",
              "Outcome                     0.0    1.00    1.0    1.000    1.000    1.0  "
            ],
            "text/html": [
              "\n",
              "  <div id=\"df-7a606e34-fb75-4bbc-bab6-30d22bbfcb35\" class=\"colab-df-container\">\n",
              "    <div>\n",
              "<style scoped>\n",
              "    .dataframe tbody tr th:only-of-type {\n",
              "        vertical-align: middle;\n",
              "    }\n",
              "\n",
              "    .dataframe tbody tr th {\n",
              "        vertical-align: top;\n",
              "    }\n",
              "\n",
              "    .dataframe thead th {\n",
              "        text-align: right;\n",
              "    }\n",
              "</style>\n",
              "<table border=\"1\" class=\"dataframe\">\n",
              "  <thead>\n",
              "    <tr style=\"text-align: right;\">\n",
              "      <th></th>\n",
              "      <th>count</th>\n",
              "      <th>mean</th>\n",
              "      <th>std</th>\n",
              "      <th>min</th>\n",
              "      <th>5%</th>\n",
              "      <th>25%</th>\n",
              "      <th>50%</th>\n",
              "      <th>75%</th>\n",
              "      <th>90%</th>\n",
              "      <th>95%</th>\n",
              "      <th>99%</th>\n",
              "      <th>max</th>\n",
              "    </tr>\n",
              "  </thead>\n",
              "  <tbody>\n",
              "    <tr>\n",
              "      <th>Pregnancies</th>\n",
              "      <td>768.0</td>\n",
              "      <td>3.845052</td>\n",
              "      <td>3.369578</td>\n",
              "      <td>0.0</td>\n",
              "      <td>0.00</td>\n",
              "      <td>1.0</td>\n",
              "      <td>3.0</td>\n",
              "      <td>6.00</td>\n",
              "      <td>9.0</td>\n",
              "      <td>10.000</td>\n",
              "      <td>13.000</td>\n",
              "      <td>17.0</td>\n",
              "    </tr>\n",
              "    <tr>\n",
              "      <th>Glucose</th>\n",
              "      <td>768.0</td>\n",
              "      <td>120.894531</td>\n",
              "      <td>31.972618</td>\n",
              "      <td>0.0</td>\n",
              "      <td>79.00</td>\n",
              "      <td>99.0</td>\n",
              "      <td>117.0</td>\n",
              "      <td>140.25</td>\n",
              "      <td>167.0</td>\n",
              "      <td>181.000</td>\n",
              "      <td>196.000</td>\n",
              "      <td>199.0</td>\n",
              "    </tr>\n",
              "    <tr>\n",
              "      <th>BloodPressure</th>\n",
              "      <td>768.0</td>\n",
              "      <td>69.105469</td>\n",
              "      <td>19.355807</td>\n",
              "      <td>0.0</td>\n",
              "      <td>38.70</td>\n",
              "      <td>62.0</td>\n",
              "      <td>72.0</td>\n",
              "      <td>80.00</td>\n",
              "      <td>88.0</td>\n",
              "      <td>90.000</td>\n",
              "      <td>106.000</td>\n",
              "      <td>122.0</td>\n",
              "    </tr>\n",
              "    <tr>\n",
              "      <th>SkinThickness</th>\n",
              "      <td>768.0</td>\n",
              "      <td>20.536458</td>\n",
              "      <td>15.952218</td>\n",
              "      <td>0.0</td>\n",
              "      <td>0.00</td>\n",
              "      <td>0.0</td>\n",
              "      <td>23.0</td>\n",
              "      <td>32.00</td>\n",
              "      <td>40.0</td>\n",
              "      <td>44.000</td>\n",
              "      <td>51.330</td>\n",
              "      <td>99.0</td>\n",
              "    </tr>\n",
              "    <tr>\n",
              "      <th>Insulin</th>\n",
              "      <td>768.0</td>\n",
              "      <td>79.799479</td>\n",
              "      <td>115.244002</td>\n",
              "      <td>0.0</td>\n",
              "      <td>0.00</td>\n",
              "      <td>0.0</td>\n",
              "      <td>30.5</td>\n",
              "      <td>127.25</td>\n",
              "      <td>210.0</td>\n",
              "      <td>293.000</td>\n",
              "      <td>519.900</td>\n",
              "      <td>846.0</td>\n",
              "    </tr>\n",
              "    <tr>\n",
              "      <th>BMI</th>\n",
              "      <td>768.0</td>\n",
              "      <td>31.992578</td>\n",
              "      <td>7.884160</td>\n",
              "      <td>0.0</td>\n",
              "      <td>21.80</td>\n",
              "      <td>27.3</td>\n",
              "      <td>32.0</td>\n",
              "      <td>36.60</td>\n",
              "      <td>41.5</td>\n",
              "      <td>44.395</td>\n",
              "      <td>50.759</td>\n",
              "      <td>67.1</td>\n",
              "    </tr>\n",
              "    <tr>\n",
              "      <th>DiabetesPedigreeFunction</th>\n",
              "      <td>768.0</td>\n",
              "      <td>347.079349</td>\n",
              "      <td>254.431659</td>\n",
              "      <td>0.1</td>\n",
              "      <td>0.34</td>\n",
              "      <td>165.0</td>\n",
              "      <td>295.5</td>\n",
              "      <td>527.25</td>\n",
              "      <td>722.9</td>\n",
              "      <td>827.300</td>\n",
              "      <td>950.980</td>\n",
              "      <td>997.0</td>\n",
              "    </tr>\n",
              "    <tr>\n",
              "      <th>Age</th>\n",
              "      <td>768.0</td>\n",
              "      <td>33.240885</td>\n",
              "      <td>11.760232</td>\n",
              "      <td>21.0</td>\n",
              "      <td>21.00</td>\n",
              "      <td>24.0</td>\n",
              "      <td>29.0</td>\n",
              "      <td>41.00</td>\n",
              "      <td>51.0</td>\n",
              "      <td>58.000</td>\n",
              "      <td>67.000</td>\n",
              "      <td>81.0</td>\n",
              "    </tr>\n",
              "    <tr>\n",
              "      <th>Outcome</th>\n",
              "      <td>768.0</td>\n",
              "      <td>0.348958</td>\n",
              "      <td>0.476951</td>\n",
              "      <td>0.0</td>\n",
              "      <td>0.00</td>\n",
              "      <td>0.0</td>\n",
              "      <td>0.0</td>\n",
              "      <td>1.00</td>\n",
              "      <td>1.0</td>\n",
              "      <td>1.000</td>\n",
              "      <td>1.000</td>\n",
              "      <td>1.0</td>\n",
              "    </tr>\n",
              "  </tbody>\n",
              "</table>\n",
              "</div>\n",
              "    <div class=\"colab-df-buttons\">\n",
              "\n",
              "  <div class=\"colab-df-container\">\n",
              "    <button class=\"colab-df-convert\" onclick=\"convertToInteractive('df-7a606e34-fb75-4bbc-bab6-30d22bbfcb35')\"\n",
              "            title=\"Convert this dataframe to an interactive table.\"\n",
              "            style=\"display:none;\">\n",
              "\n",
              "  <svg xmlns=\"http://www.w3.org/2000/svg\" height=\"24px\" viewBox=\"0 -960 960 960\">\n",
              "    <path d=\"M120-120v-720h720v720H120Zm60-500h600v-160H180v160Zm220 220h160v-160H400v160Zm0 220h160v-160H400v160ZM180-400h160v-160H180v160Zm440 0h160v-160H620v160ZM180-180h160v-160H180v160Zm440 0h160v-160H620v160Z\"/>\n",
              "  </svg>\n",
              "    </button>\n",
              "\n",
              "  <style>\n",
              "    .colab-df-container {\n",
              "      display:flex;\n",
              "      gap: 12px;\n",
              "    }\n",
              "\n",
              "    .colab-df-convert {\n",
              "      background-color: #E8F0FE;\n",
              "      border: none;\n",
              "      border-radius: 50%;\n",
              "      cursor: pointer;\n",
              "      display: none;\n",
              "      fill: #1967D2;\n",
              "      height: 32px;\n",
              "      padding: 0 0 0 0;\n",
              "      width: 32px;\n",
              "    }\n",
              "\n",
              "    .colab-df-convert:hover {\n",
              "      background-color: #E2EBFA;\n",
              "      box-shadow: 0px 1px 2px rgba(60, 64, 67, 0.3), 0px 1px 3px 1px rgba(60, 64, 67, 0.15);\n",
              "      fill: #174EA6;\n",
              "    }\n",
              "\n",
              "    .colab-df-buttons div {\n",
              "      margin-bottom: 4px;\n",
              "    }\n",
              "\n",
              "    [theme=dark] .colab-df-convert {\n",
              "      background-color: #3B4455;\n",
              "      fill: #D2E3FC;\n",
              "    }\n",
              "\n",
              "    [theme=dark] .colab-df-convert:hover {\n",
              "      background-color: #434B5C;\n",
              "      box-shadow: 0px 1px 3px 1px rgba(0, 0, 0, 0.15);\n",
              "      filter: drop-shadow(0px 1px 2px rgba(0, 0, 0, 0.3));\n",
              "      fill: #FFFFFF;\n",
              "    }\n",
              "  </style>\n",
              "\n",
              "    <script>\n",
              "      const buttonEl =\n",
              "        document.querySelector('#df-7a606e34-fb75-4bbc-bab6-30d22bbfcb35 button.colab-df-convert');\n",
              "      buttonEl.style.display =\n",
              "        google.colab.kernel.accessAllowed ? 'block' : 'none';\n",
              "\n",
              "      async function convertToInteractive(key) {\n",
              "        const element = document.querySelector('#df-7a606e34-fb75-4bbc-bab6-30d22bbfcb35');\n",
              "        const dataTable =\n",
              "          await google.colab.kernel.invokeFunction('convertToInteractive',\n",
              "                                                    [key], {});\n",
              "        if (!dataTable) return;\n",
              "\n",
              "        const docLinkHtml = 'Like what you see? Visit the ' +\n",
              "          '<a target=\"_blank\" href=https://colab.research.google.com/notebooks/data_table.ipynb>data table notebook</a>'\n",
              "          + ' to learn more about interactive tables.';\n",
              "        element.innerHTML = '';\n",
              "        dataTable['output_type'] = 'display_data';\n",
              "        await google.colab.output.renderOutput(dataTable, element);\n",
              "        const docLink = document.createElement('div');\n",
              "        docLink.innerHTML = docLinkHtml;\n",
              "        element.appendChild(docLink);\n",
              "      }\n",
              "    </script>\n",
              "  </div>\n",
              "\n",
              "\n",
              "<div id=\"df-a4f005e8-b7dc-4644-8631-fced1944b5a6\">\n",
              "  <button class=\"colab-df-quickchart\" onclick=\"quickchart('df-a4f005e8-b7dc-4644-8631-fced1944b5a6')\"\n",
              "            title=\"Suggest charts\"\n",
              "            style=\"display:none;\">\n",
              "\n",
              "<svg xmlns=\"http://www.w3.org/2000/svg\" height=\"24px\"viewBox=\"0 0 24 24\"\n",
              "     width=\"24px\">\n",
              "    <g>\n",
              "        <path d=\"M19 3H5c-1.1 0-2 .9-2 2v14c0 1.1.9 2 2 2h14c1.1 0 2-.9 2-2V5c0-1.1-.9-2-2-2zM9 17H7v-7h2v7zm4 0h-2V7h2v10zm4 0h-2v-4h2v4z\"/>\n",
              "    </g>\n",
              "</svg>\n",
              "  </button>\n",
              "\n",
              "<style>\n",
              "  .colab-df-quickchart {\n",
              "      --bg-color: #E8F0FE;\n",
              "      --fill-color: #1967D2;\n",
              "      --hover-bg-color: #E2EBFA;\n",
              "      --hover-fill-color: #174EA6;\n",
              "      --disabled-fill-color: #AAA;\n",
              "      --disabled-bg-color: #DDD;\n",
              "  }\n",
              "\n",
              "  [theme=dark] .colab-df-quickchart {\n",
              "      --bg-color: #3B4455;\n",
              "      --fill-color: #D2E3FC;\n",
              "      --hover-bg-color: #434B5C;\n",
              "      --hover-fill-color: #FFFFFF;\n",
              "      --disabled-bg-color: #3B4455;\n",
              "      --disabled-fill-color: #666;\n",
              "  }\n",
              "\n",
              "  .colab-df-quickchart {\n",
              "    background-color: var(--bg-color);\n",
              "    border: none;\n",
              "    border-radius: 50%;\n",
              "    cursor: pointer;\n",
              "    display: none;\n",
              "    fill: var(--fill-color);\n",
              "    height: 32px;\n",
              "    padding: 0;\n",
              "    width: 32px;\n",
              "  }\n",
              "\n",
              "  .colab-df-quickchart:hover {\n",
              "    background-color: var(--hover-bg-color);\n",
              "    box-shadow: 0 1px 2px rgba(60, 64, 67, 0.3), 0 1px 3px 1px rgba(60, 64, 67, 0.15);\n",
              "    fill: var(--button-hover-fill-color);\n",
              "  }\n",
              "\n",
              "  .colab-df-quickchart-complete:disabled,\n",
              "  .colab-df-quickchart-complete:disabled:hover {\n",
              "    background-color: var(--disabled-bg-color);\n",
              "    fill: var(--disabled-fill-color);\n",
              "    box-shadow: none;\n",
              "  }\n",
              "\n",
              "  .colab-df-spinner {\n",
              "    border: 2px solid var(--fill-color);\n",
              "    border-color: transparent;\n",
              "    border-bottom-color: var(--fill-color);\n",
              "    animation:\n",
              "      spin 1s steps(1) infinite;\n",
              "  }\n",
              "\n",
              "  @keyframes spin {\n",
              "    0% {\n",
              "      border-color: transparent;\n",
              "      border-bottom-color: var(--fill-color);\n",
              "      border-left-color: var(--fill-color);\n",
              "    }\n",
              "    20% {\n",
              "      border-color: transparent;\n",
              "      border-left-color: var(--fill-color);\n",
              "      border-top-color: var(--fill-color);\n",
              "    }\n",
              "    30% {\n",
              "      border-color: transparent;\n",
              "      border-left-color: var(--fill-color);\n",
              "      border-top-color: var(--fill-color);\n",
              "      border-right-color: var(--fill-color);\n",
              "    }\n",
              "    40% {\n",
              "      border-color: transparent;\n",
              "      border-right-color: var(--fill-color);\n",
              "      border-top-color: var(--fill-color);\n",
              "    }\n",
              "    60% {\n",
              "      border-color: transparent;\n",
              "      border-right-color: var(--fill-color);\n",
              "    }\n",
              "    80% {\n",
              "      border-color: transparent;\n",
              "      border-right-color: var(--fill-color);\n",
              "      border-bottom-color: var(--fill-color);\n",
              "    }\n",
              "    90% {\n",
              "      border-color: transparent;\n",
              "      border-bottom-color: var(--fill-color);\n",
              "    }\n",
              "  }\n",
              "</style>\n",
              "\n",
              "  <script>\n",
              "    async function quickchart(key) {\n",
              "      const quickchartButtonEl =\n",
              "        document.querySelector('#' + key + ' button');\n",
              "      quickchartButtonEl.disabled = true;  // To prevent multiple clicks.\n",
              "      quickchartButtonEl.classList.add('colab-df-spinner');\n",
              "      try {\n",
              "        const charts = await google.colab.kernel.invokeFunction(\n",
              "            'suggestCharts', [key], {});\n",
              "      } catch (error) {\n",
              "        console.error('Error during call to suggestCharts:', error);\n",
              "      }\n",
              "      quickchartButtonEl.classList.remove('colab-df-spinner');\n",
              "      quickchartButtonEl.classList.add('colab-df-quickchart-complete');\n",
              "    }\n",
              "    (() => {\n",
              "      let quickchartButtonEl =\n",
              "        document.querySelector('#df-a4f005e8-b7dc-4644-8631-fced1944b5a6 button');\n",
              "      quickchartButtonEl.style.display =\n",
              "        google.colab.kernel.accessAllowed ? 'block' : 'none';\n",
              "    })();\n",
              "  </script>\n",
              "</div>\n",
              "    </div>\n",
              "  </div>\n"
            ],
            "application/vnd.google.colaboratory.intrinsic+json": {
              "type": "dataframe",
              "summary": "{\n  \"name\": \")\",\n  \"rows\": 9,\n  \"fields\": [\n    {\n      \"column\": \"count\",\n      \"properties\": {\n        \"dtype\": \"number\",\n        \"std\": 0.0,\n        \"min\": 768.0,\n        \"max\": 768.0,\n        \"num_unique_values\": 1,\n        \"samples\": [\n          768.0\n        ],\n        \"semantic_type\": \"\",\n        \"description\": \"\"\n      }\n    },\n    {\n      \"column\": \"mean\",\n      \"properties\": {\n        \"dtype\": \"number\",\n        \"std\": 107.97808935343119,\n        \"min\": 0.3489583333333333,\n        \"max\": 347.07934895833336,\n        \"num_unique_values\": 9,\n        \"samples\": [\n          33.240885416666664\n        ],\n        \"semantic_type\": \"\",\n        \"description\": \"\"\n      }\n    },\n    {\n      \"column\": \"std\",\n      \"properties\": {\n        \"dtype\": \"number\",\n        \"std\": 83.90710108284148,\n        \"min\": 0.47695137724279896,\n        \"max\": 254.4316591124471,\n        \"num_unique_values\": 9,\n        \"samples\": [\n          11.760231540678685\n        ],\n        \"semantic_type\": \"\",\n        \"description\": \"\"\n      }\n    },\n    {\n      \"column\": \"min\",\n      \"properties\": {\n        \"dtype\": \"number\",\n        \"std\": 6.995911504427267,\n        \"min\": 0.0,\n        \"max\": 21.0,\n        \"num_unique_values\": 3,\n        \"samples\": [\n          0.0\n        ],\n        \"semantic_type\": \"\",\n        \"description\": \"\"\n      }\n    },\n    {\n      \"column\": \"5%\",\n      \"properties\": {\n        \"dtype\": \"number\",\n        \"std\": 26.880885608757595,\n        \"min\": 0.0,\n        \"max\": 79.0,\n        \"num_unique_values\": 6,\n        \"samples\": [\n          0.0\n        ],\n        \"semantic_type\": \"\",\n        \"description\": \"\"\n      }\n    },\n    {\n      \"column\": \"25%\",\n      \"properties\": {\n        \"dtype\": \"number\",\n        \"std\": 57.32700061925445,\n        \"min\": 0.0,\n        \"max\": 165.0,\n        \"num_unique_values\": 7,\n        \"samples\": [\n          1.0\n        ],\n        \"semantic_type\": \"\",\n        \"description\": \"\"\n      }\n    },\n    {\n      \"column\": \"50%\",\n      \"properties\": {\n        \"dtype\": \"number\",\n        \"std\": 93.0452772101363,\n        \"min\": 0.0,\n        \"max\": 295.5,\n        \"num_unique_values\": 9,\n        \"samples\": [\n          29.0\n        ],\n        \"semantic_type\": \"\",\n        \"description\": \"\"\n      }\n    },\n    {\n      \"column\": \"75%\",\n      \"properties\": {\n        \"dtype\": \"number\",\n        \"std\": 163.98915551035685,\n        \"min\": 1.0,\n        \"max\": 527.25,\n        \"num_unique_values\": 9,\n        \"samples\": [\n          41.0\n        ],\n        \"semantic_type\": \"\",\n        \"description\": \"\"\n      }\n    },\n    {\n      \"column\": \"90%\",\n      \"properties\": {\n        \"dtype\": \"number\",\n        \"std\": 226.8424496086314,\n        \"min\": 1.0,\n        \"max\": 722.9000000000002,\n        \"num_unique_values\": 9,\n        \"samples\": [\n          51.0\n        ],\n        \"semantic_type\": \"\",\n        \"description\": \"\"\n      }\n    },\n    {\n      \"column\": \"95%\",\n      \"properties\": {\n        \"dtype\": \"number\",\n        \"std\": 262.6813831325784,\n        \"min\": 1.0,\n        \"max\": 827.3,\n        \"num_unique_values\": 9,\n        \"samples\": [\n          58.0\n        ],\n        \"semantic_type\": \"\",\n        \"description\": \"\"\n      }\n    },\n    {\n      \"column\": \"99%\",\n      \"properties\": {\n        \"dtype\": \"number\",\n        \"std\": 318.0193960163613,\n        \"min\": 1.0,\n        \"max\": 950.9800000000002,\n        \"num_unique_values\": 9,\n        \"samples\": [\n          67.0\n        ],\n        \"semantic_type\": \"\",\n        \"description\": \"\"\n      }\n    },\n    {\n      \"column\": \"max\",\n      \"properties\": {\n        \"dtype\": \"number\",\n        \"std\": 375.79088599911523,\n        \"min\": 1.0,\n        \"max\": 997.0,\n        \"num_unique_values\": 9,\n        \"samples\": [\n          81.0\n        ],\n        \"semantic_type\": \"\",\n        \"description\": \"\"\n      }\n    }\n  ]\n}"
            }
          },
          "metadata": {},
          "execution_count": 13
        }
      ]
    },
    {
      "metadata": {
        "trusted": true,
        "id": "Tw5HJIvIpH8b",
        "outputId": "df656831-6294-4805-a523-2fb96909be3e",
        "colab": {
          "base_uri": "https://localhost:8080/"
        }
      },
      "cell_type": "code",
      "source": [
        "# Target Variable: Categorical\n",
        "df['Outcome'].unique()"
      ],
      "execution_count": 14,
      "outputs": [
        {
          "output_type": "execute_result",
          "data": {
            "text/plain": [
              "array([1, 0])"
            ]
          },
          "metadata": {},
          "execution_count": 14
        }
      ]
    },
    {
      "metadata": {
        "trusted": true,
        "id": "ImpW2qtQpH8b",
        "outputId": "d05d0691-f380-403d-90a4-f9bfd2266fd7",
        "colab": {
          "base_uri": "https://localhost:8080/"
        }
      },
      "cell_type": "code",
      "source": [
        "df['Outcome'].value_counts()"
      ],
      "execution_count": 15,
      "outputs": [
        {
          "output_type": "execute_result",
          "data": {
            "text/plain": [
              "Outcome\n",
              "0    500\n",
              "1    268\n",
              "Name: count, dtype: int64"
            ]
          },
          "metadata": {},
          "execution_count": 15
        }
      ]
    },
    {
      "cell_type": "code",
      "source": [
        "df['Outcome'].value_counts(normalize=True)"
      ],
      "metadata": {
        "id": "mGIc5vnpHrpP",
        "outputId": "ddd465f5-4fc0-48e9-da06-11239fe9b99c",
        "colab": {
          "base_uri": "https://localhost:8080/"
        }
      },
      "execution_count": 16,
      "outputs": [
        {
          "output_type": "execute_result",
          "data": {
            "text/plain": [
              "Outcome\n",
              "0    0.651042\n",
              "1    0.348958\n",
              "Name: proportion, dtype: float64"
            ]
          },
          "metadata": {},
          "execution_count": 16
        }
      ]
    },
    {
      "metadata": {
        "id": "9cUwWLLHpH8c"
      },
      "cell_type": "markdown",
      "source": [
        "# 3.&nbsp;Data Visualization"
      ]
    },
    {
      "metadata": {
        "trusted": true,
        "id": "CxbZrRXbpH8c",
        "outputId": "7c0e83a8-d4a4-4c09-fb81-3eca40135144",
        "colab": {
          "base_uri": "https://localhost:8080/",
          "height": 695
        }
      },
      "cell_type": "code",
      "source": [
        "plt.figure(figsize=(8, 6))\n",
        "sns.heatmap(\n",
        "    df.corr(),\n",
        "    cmap='Blues',\n",
        "    annot=True\n",
        ");"
      ],
      "execution_count": 17,
      "outputs": [
        {
          "output_type": "display_data",
          "data": {
            "text/plain": [
              "<Figure size 800x600 with 2 Axes>"
            ],
            "image/png": "[encoded data removed]"
          },
          "metadata": {}
        }
      ]
    },
    {
      "cell_type": "code",
      "source": [
        "df.nlargest(10, 'BloodPressure')"
      ],
      "metadata": {
        "id": "w8G6JU7bIIjP",
        "outputId": "f2eec9bc-4ef1-4588-fa71-99e8dda6e154",
        "colab": {
          "base_uri": "https://localhost:8080/",
          "height": 363
        }
      },
      "execution_count": 18,
      "outputs": [
        {
          "output_type": "execute_result",
          "data": {
            "text/plain": [
              "     Pregnancies  Glucose  BloodPressure  SkinThickness  Insulin   BMI  \\\n",
              "106            1       96            122              0        0  22.4   \n",
              "691           13      158            114              0        0  42.3   \n",
              "43             9      171            110             24      240  45.4   \n",
              "177            0      129            110             46      130  67.1   \n",
              "549            4      189            110             31        0  28.5   \n",
              "84             5      137            108              0        0  48.8   \n",
              "362            5      103            108             37        0  39.2   \n",
              "658           11      127            106              0        0  39.0   \n",
              "662            8      167            106             46      231  37.6   \n",
              "672           10       68            106             23       49  35.5   \n",
              "\n",
              "     DiabetesPedigreeFunction  Age  Outcome  \n",
              "106                    207.00   27        0  \n",
              "691                    257.00   44        1  \n",
              "43                     721.00   54        1  \n",
              "177                    319.00   26        1  \n",
              "549                      0.68   37        0  \n",
              "84                     227.00   37        1  \n",
              "362                    305.00   65        0  \n",
              "658                      0.19   51        0  \n",
              "662                    165.00   43        1  \n",
              "672                    285.00   47        0  "
            ],
            "text/html": [
              "\n",
              "  <div id=\"df-04c77e35-7fac-4561-9c81-2e081b05a09c\" class=\"colab-df-container\">\n",
              "    <div>\n",
              "<style scoped>\n",
              "    .dataframe tbody tr th:only-of-type {\n",
              "        vertical-align: middle;\n",
              "    }\n",
              "\n",
              "    .dataframe tbody tr th {\n",
              "        vertical-align: top;\n",
              "    }\n",
              "\n",
              "    .dataframe thead th {\n",
              "        text-align: right;\n",
              "    }\n",
              "</style>\n",
              "<table border=\"1\" class=\"dataframe\">\n",
              "  <thead>\n",
              "    <tr style=\"text-align: right;\">\n",
              "      <th></th>\n",
              "      <th>Pregnancies</th>\n",
              "      <th>Glucose</th>\n",
              "      <th>BloodPressure</th>\n",
              "      <th>SkinThickness</th>\n",
              "      <th>Insulin</th>\n",
              "      <th>BMI</th>\n",
              "      <th>DiabetesPedigreeFunction</th>\n",
              "      <th>Age</th>\n",
              "      <th>Outcome</th>\n",
              "    </tr>\n",
              "  </thead>\n",
              "  <tbody>\n",
              "    <tr>\n",
              "      <th>106</th>\n",
              "      <td>1</td>\n",
              "      <td>96</td>\n",
              "      <td>122</td>\n",
              "      <td>0</td>\n",
              "      <td>0</td>\n",
              "      <td>22.4</td>\n",
              "      <td>207.00</td>\n",
              "      <td>27</td>\n",
              "      <td>0</td>\n",
              "    </tr>\n",
              "    <tr>\n",
              "      <th>691</th>\n",
              "      <td>13</td>\n",
              "      <td>158</td>\n",
              "      <td>114</td>\n",
              "      <td>0</td>\n",
              "      <td>0</td>\n",
              "      <td>42.3</td>\n",
              "      <td>257.00</td>\n",
              "      <td>44</td>\n",
              "      <td>1</td>\n",
              "    </tr>\n",
              "    <tr>\n",
              "      <th>43</th>\n",
              "      <td>9</td>\n",
              "      <td>171</td>\n",
              "      <td>110</td>\n",
              "      <td>24</td>\n",
              "      <td>240</td>\n",
              "      <td>45.4</td>\n",
              "      <td>721.00</td>\n",
              "      <td>54</td>\n",
              "      <td>1</td>\n",
              "    </tr>\n",
              "    <tr>\n",
              "      <th>177</th>\n",
              "      <td>0</td>\n",
              "      <td>129</td>\n",
              "      <td>110</td>\n",
              "      <td>46</td>\n",
              "      <td>130</td>\n",
              "      <td>67.1</td>\n",
              "      <td>319.00</td>\n",
              "      <td>26</td>\n",
              "      <td>1</td>\n",
              "    </tr>\n",
              "    <tr>\n",
              "      <th>549</th>\n",
              "      <td>4</td>\n",
              "      <td>189</td>\n",
              "      <td>110</td>\n",
              "      <td>31</td>\n",
              "      <td>0</td>\n",
              "      <td>28.5</td>\n",
              "      <td>0.68</td>\n",
              "      <td>37</td>\n",
              "      <td>0</td>\n",
              "    </tr>\n",
              "    <tr>\n",
              "      <th>84</th>\n",
              "      <td>5</td>\n",
              "      <td>137</td>\n",
              "      <td>108</td>\n",
              "      <td>0</td>\n",
              "      <td>0</td>\n",
              "      <td>48.8</td>\n",
              "      <td>227.00</td>\n",
              "      <td>37</td>\n",
              "      <td>1</td>\n",
              "    </tr>\n",
              "    <tr>\n",
              "      <th>362</th>\n",
              "      <td>5</td>\n",
              "      <td>103</td>\n",
              "      <td>108</td>\n",
              "      <td>37</td>\n",
              "      <td>0</td>\n",
              "      <td>39.2</td>\n",
              "      <td>305.00</td>\n",
              "      <td>65</td>\n",
              "      <td>0</td>\n",
              "    </tr>\n",
              "    <tr>\n",
              "      <th>658</th>\n",
              "      <td>11</td>\n",
              "      <td>127</td>\n",
              "      <td>106</td>\n",
              "      <td>0</td>\n",
              "      <td>0</td>\n",
              "      <td>39.0</td>\n",
              "      <td>0.19</td>\n",
              "      <td>51</td>\n",
              "      <td>0</td>\n",
              "    </tr>\n",
              "    <tr>\n",
              "      <th>662</th>\n",
              "      <td>8</td>\n",
              "      <td>167</td>\n",
              "      <td>106</td>\n",
              "      <td>46</td>\n",
              "      <td>231</td>\n",
              "      <td>37.6</td>\n",
              "      <td>165.00</td>\n",
              "      <td>43</td>\n",
              "      <td>1</td>\n",
              "    </tr>\n",
              "    <tr>\n",
              "      <th>672</th>\n",
              "      <td>10</td>\n",
              "      <td>68</td>\n",
              "      <td>106</td>\n",
              "      <td>23</td>\n",
              "      <td>49</td>\n",
              "      <td>35.5</td>\n",
              "      <td>285.00</td>\n",
              "      <td>47</td>\n",
              "      <td>0</td>\n",
              "    </tr>\n",
              "  </tbody>\n",
              "</table>\n",
              "</div>\n",
              "    <div class=\"colab-df-buttons\">\n",
              "\n",
              "  <div class=\"colab-df-container\">\n",
              "    <button class=\"colab-df-convert\" onclick=\"convertToInteractive('df-04c77e35-7fac-4561-9c81-2e081b05a09c')\"\n",
              "            title=\"Convert this dataframe to an interactive table.\"\n",
              "            style=\"display:none;\">\n",
              "\n",
              "  <svg xmlns=\"http://www.w3.org/2000/svg\" height=\"24px\" viewBox=\"0 -960 960 960\">\n",
              "    <path d=\"M120-120v-720h720v720H120Zm60-500h600v-160H180v160Zm220 220h160v-160H400v160Zm0 220h160v-160H400v160ZM180-400h160v-160H180v160Zm440 0h160v-160H620v160ZM180-180h160v-160H180v160Zm440 0h160v-160H620v160Z\"/>\n",
              "  </svg>\n",
              "    </button>\n",
              "\n",
              "  <style>\n",
              "    .colab-df-container {\n",
              "      display:flex;\n",
              "      gap: 12px;\n",
              "    }\n",
              "\n",
              "    .colab-df-convert {\n",
              "      background-color: #E8F0FE;\n",
              "      border: none;\n",
              "      border-radius: 50%;\n",
              "      cursor: pointer;\n",
              "      display: none;\n",
              "      fill: #1967D2;\n",
              "      height: 32px;\n",
              "      padding: 0 0 0 0;\n",
              "      width: 32px;\n",
              "    }\n",
              "\n",
              "    .colab-df-convert:hover {\n",
              "      background-color: #E2EBFA;\n",
              "      box-shadow: 0px 1px 2px rgba(60, 64, 67, 0.3), 0px 1px 3px 1px rgba(60, 64, 67, 0.15);\n",
              "      fill: #174EA6;\n",
              "    }\n",
              "\n",
              "    .colab-df-buttons div {\n",
              "      margin-bottom: 4px;\n",
              "    }\n",
              "\n",
              "    [theme=dark] .colab-df-convert {\n",
              "      background-color: #3B4455;\n",
              "      fill: #D2E3FC;\n",
              "    }\n",
              "\n",
              "    [theme=dark] .colab-df-convert:hover {\n",
              "      background-color: #434B5C;\n",
              "      box-shadow: 0px 1px 3px 1px rgba(0, 0, 0, 0.15);\n",
              "      filter: drop-shadow(0px 1px 2px rgba(0, 0, 0, 0.3));\n",
              "      fill: #FFFFFF;\n",
              "    }\n",
              "  </style>\n",
              "\n",
              "    <script>\n",
              "      const buttonEl =\n",
              "        document.querySelector('#df-04c77e35-7fac-4561-9c81-2e081b05a09c button.colab-df-convert');\n",
              "      buttonEl.style.display =\n",
              "        google.colab.kernel.accessAllowed ? 'block' : 'none';\n",
              "\n",
              "      async function convertToInteractive(key) {\n",
              "        const element = document.querySelector('#df-04c77e35-7fac-4561-9c81-2e081b05a09c');\n",
              "        const dataTable =\n",
              "          await google.colab.kernel.invokeFunction('convertToInteractive',\n",
              "                                                    [key], {});\n",
              "        if (!dataTable) return;\n",
              "\n",
              "        const docLinkHtml = 'Like what you see? Visit the ' +\n",
              "          '<a target=\"_blank\" href=https://colab.research.google.com/notebooks/data_table.ipynb>data table notebook</a>'\n",
              "          + ' to learn more about interactive tables.';\n",
              "        element.innerHTML = '';\n",
              "        dataTable['output_type'] = 'display_data';\n",
              "        await google.colab.output.renderOutput(dataTable, element);\n",
              "        const docLink = document.createElement('div');\n",
              "        docLink.innerHTML = docLinkHtml;\n",
              "        element.appendChild(docLink);\n",
              "      }\n",
              "    </script>\n",
              "  </div>\n",
              "\n",
              "\n",
              "<div id=\"df-53dbe351-b65e-4f35-9d89-8642901625a0\">\n",
              "  <button class=\"colab-df-quickchart\" onclick=\"quickchart('df-53dbe351-b65e-4f35-9d89-8642901625a0')\"\n",
              "            title=\"Suggest charts\"\n",
              "            style=\"display:none;\">\n",
              "\n",
              "<svg xmlns=\"http://www.w3.org/2000/svg\" height=\"24px\"viewBox=\"0 0 24 24\"\n",
              "     width=\"24px\">\n",
              "    <g>\n",
              "        <path d=\"M19 3H5c-1.1 0-2 .9-2 2v14c0 1.1.9 2 2 2h14c1.1 0 2-.9 2-2V5c0-1.1-.9-2-2-2zM9 17H7v-7h2v7zm4 0h-2V7h2v10zm4 0h-2v-4h2v4z\"/>\n",
              "    </g>\n",
              "</svg>\n",
              "  </button>\n",
              "\n",
              "<style>\n",
              "  .colab-df-quickchart {\n",
              "      --bg-color: #E8F0FE;\n",
              "      --fill-color: #1967D2;\n",
              "      --hover-bg-color: #E2EBFA;\n",
              "      --hover-fill-color: #174EA6;\n",
              "      --disabled-fill-color: #AAA;\n",
              "      --disabled-bg-color: #DDD;\n",
              "  }\n",
              "\n",
              "  [theme=dark] .colab-df-quickchart {\n",
              "      --bg-color: #3B4455;\n",
              "      --fill-color: #D2E3FC;\n",
              "      --hover-bg-color: #434B5C;\n",
              "      --hover-fill-color: #FFFFFF;\n",
              "      --disabled-bg-color: #3B4455;\n",
              "      --disabled-fill-color: #666;\n",
              "  }\n",
              "\n",
              "  .colab-df-quickchart {\n",
              "    background-color: var(--bg-color);\n",
              "    border: none;\n",
              "    border-radius: 50%;\n",
              "    cursor: pointer;\n",
              "    display: none;\n",
              "    fill: var(--fill-color);\n",
              "    height: 32px;\n",
              "    padding: 0;\n",
              "    width: 32px;\n",
              "  }\n",
              "\n",
              "  .colab-df-quickchart:hover {\n",
              "    background-color: var(--hover-bg-color);\n",
              "    box-shadow: 0 1px 2px rgba(60, 64, 67, 0.3), 0 1px 3px 1px rgba(60, 64, 67, 0.15);\n",
              "    fill: var(--button-hover-fill-color);\n",
              "  }\n",
              "\n",
              "  .colab-df-quickchart-complete:disabled,\n",
              "  .colab-df-quickchart-complete:disabled:hover {\n",
              "    background-color: var(--disabled-bg-color);\n",
              "    fill: var(--disabled-fill-color);\n",
              "    box-shadow: none;\n",
              "  }\n",
              "\n",
              "  .colab-df-spinner {\n",
              "    border: 2px solid var(--fill-color);\n",
              "    border-color: transparent;\n",
              "    border-bottom-color: var(--fill-color);\n",
              "    animation:\n",
              "      spin 1s steps(1) infinite;\n",
              "  }\n",
              "\n",
              "  @keyframes spin {\n",
              "    0% {\n",
              "      border-color: transparent;\n",
              "      border-bottom-color: var(--fill-color);\n",
              "      border-left-color: var(--fill-color);\n",
              "    }\n",
              "    20% {\n",
              "      border-color: transparent;\n",
              "      border-left-color: var(--fill-color);\n",
              "      border-top-color: var(--fill-color);\n",
              "    }\n",
              "    30% {\n",
              "      border-color: transparent;\n",
              "      border-left-color: var(--fill-color);\n",
              "      border-top-color: var(--fill-color);\n",
              "      border-right-color: var(--fill-color);\n",
              "    }\n",
              "    40% {\n",
              "      border-color: transparent;\n",
              "      border-right-color: var(--fill-color);\n",
              "      border-top-color: var(--fill-color);\n",
              "    }\n",
              "    60% {\n",
              "      border-color: transparent;\n",
              "      border-right-color: var(--fill-color);\n",
              "    }\n",
              "    80% {\n",
              "      border-color: transparent;\n",
              "      border-right-color: var(--fill-color);\n",
              "      border-bottom-color: var(--fill-color);\n",
              "    }\n",
              "    90% {\n",
              "      border-color: transparent;\n",
              "      border-bottom-color: var(--fill-color);\n",
              "    }\n",
              "  }\n",
              "</style>\n",
              "\n",
              "  <script>\n",
              "    async function quickchart(key) {\n",
              "      const quickchartButtonEl =\n",
              "        document.querySelector('#' + key + ' button');\n",
              "      quickchartButtonEl.disabled = true;  // To prevent multiple clicks.\n",
              "      quickchartButtonEl.classList.add('colab-df-spinner');\n",
              "      try {\n",
              "        const charts = await google.colab.kernel.invokeFunction(\n",
              "            'suggestCharts', [key], {});\n",
              "      } catch (error) {\n",
              "        console.error('Error during call to suggestCharts:', error);\n",
              "      }\n",
              "      quickchartButtonEl.classList.remove('colab-df-spinner');\n",
              "      quickchartButtonEl.classList.add('colab-df-quickchart-complete');\n",
              "    }\n",
              "    (() => {\n",
              "      let quickchartButtonEl =\n",
              "        document.querySelector('#df-53dbe351-b65e-4f35-9d89-8642901625a0 button');\n",
              "      quickchartButtonEl.style.display =\n",
              "        google.colab.kernel.accessAllowed ? 'block' : 'none';\n",
              "    })();\n",
              "  </script>\n",
              "</div>\n",
              "    </div>\n",
              "  </div>\n"
            ],
            "application/vnd.google.colaboratory.intrinsic+json": {
              "type": "dataframe",
              "summary": "{\n  \"name\": \"df\",\n  \"rows\": 10,\n  \"fields\": [\n    {\n      \"column\": \"Pregnancies\",\n      \"properties\": {\n        \"dtype\": \"number\",\n        \"std\": 4,\n        \"min\": 0,\n        \"max\": 13,\n        \"num_unique_values\": 9,\n        \"samples\": [\n          8,\n          13,\n          5\n        ],\n        \"semantic_type\": \"\",\n        \"description\": \"\"\n      }\n    },\n    {\n      \"column\": \"Glucose\",\n      \"properties\": {\n        \"dtype\": \"number\",\n        \"std\": 37,\n        \"min\": 68,\n        \"max\": 189,\n        \"num_unique_values\": 10,\n        \"samples\": [\n          167,\n          158,\n          137\n        ],\n        \"semantic_type\": \"\",\n        \"description\": \"\"\n      }\n    },\n    {\n      \"column\": \"BloodPressure\",\n      \"properties\": {\n        \"dtype\": \"number\",\n        \"std\": 4,\n        \"min\": 106,\n        \"max\": 122,\n        \"num_unique_values\": 5,\n        \"samples\": [\n          114,\n          106,\n          110\n        ],\n        \"semantic_type\": \"\",\n        \"description\": \"\"\n      }\n    },\n    {\n      \"column\": \"SkinThickness\",\n      \"properties\": {\n        \"dtype\": \"number\",\n        \"std\": 19,\n        \"min\": 0,\n        \"max\": 46,\n        \"num_unique_values\": 6,\n        \"samples\": [\n          0,\n          24,\n          23\n        ],\n        \"semantic_type\": \"\",\n        \"description\": \"\"\n      }\n    },\n    {\n      \"column\": \"Insulin\",\n      \"properties\": {\n        \"dtype\": \"number\",\n        \"std\": 98,\n        \"min\": 0,\n        \"max\": 240,\n        \"num_unique_values\": 5,\n        \"samples\": [\n          240,\n          49,\n          130\n        ],\n        \"semantic_type\": \"\",\n        \"description\": \"\"\n      }\n    },\n    {\n      \"column\": \"BMI\",\n      \"properties\": {\n        \"dtype\": \"number\",\n        \"std\": 12.076588922373732,\n        \"min\": 22.4,\n        \"max\": 67.1,\n        \"num_unique_values\": 10,\n        \"samples\": [\n          37.6,\n          42.3,\n          48.8\n        ],\n        \"semantic_type\": \"\",\n        \"description\": \"\"\n      }\n    },\n    {\n      \"column\": \"DiabetesPedigreeFunction\",\n      \"properties\": {\n        \"dtype\": \"number\",\n        \"std\": 201.39851561021993,\n        \"min\": 0.19,\n        \"max\": 721.0,\n        \"num_unique_values\": 10,\n        \"samples\": [\n          165.0,\n          257.0,\n          227.0\n        ],\n        \"semantic_type\": \"\",\n        \"description\": \"\"\n      }\n    },\n    {\n      \"column\": \"Age\",\n      \"properties\": {\n        \"dtype\": \"number\",\n        \"std\": 12,\n        \"min\": 26,\n        \"max\": 65,\n        \"num_unique_values\": 9,\n        \"samples\": [\n          43,\n          44,\n          65\n        ],\n        \"semantic_type\": \"\",\n        \"description\": \"\"\n      }\n    },\n    {\n      \"column\": \"Outcome\",\n      \"properties\": {\n        \"dtype\": \"number\",\n        \"std\": 0,\n        \"min\": 0,\n        \"max\": 1,\n        \"num_unique_values\": 2,\n        \"samples\": [\n          1,\n          0\n        ],\n        \"semantic_type\": \"\",\n        \"description\": \"\"\n      }\n    }\n  ]\n}"
            }
          },
          "metadata": {},
          "execution_count": 18
        }
      ]
    },
    {
      "cell_type": "code",
      "source": [
        "# df.corr()"
      ],
      "metadata": {
        "id": "-LS0xx9kSrFF"
      },
      "execution_count": 19,
      "outputs": []
    },
    {
      "cell_type": "code",
      "source": [
        "k = 10\n",
        "k_largest_corr = df.corr().nlargest(k, 'Outcome')\n",
        "k_largest_feats = k_largest_corr['Outcome'].index\n",
        "list(k_largest_feats)"
      ],
      "metadata": {
        "id": "KmpPwxAmS2Rv",
        "outputId": "bdb9fb10-5865-43bc-bdd4-370c0e3b2738",
        "colab": {
          "base_uri": "https://localhost:8080/"
        }
      },
      "execution_count": 20,
      "outputs": [
        {
          "output_type": "execute_result",
          "data": {
            "text/plain": [
              "['Outcome',\n",
              " 'Glucose',\n",
              " 'BMI',\n",
              " 'Age',\n",
              " 'Pregnancies',\n",
              " 'Insulin',\n",
              " 'DiabetesPedigreeFunction',\n",
              " 'SkinThickness',\n",
              " 'BloodPressure']"
            ]
          },
          "metadata": {},
          "execution_count": 20
        }
      ]
    },
    {
      "metadata": {
        "trusted": true,
        "id": "lFRN25AnpH8c",
        "outputId": "538627ae-9839-45e6-fc61-8e2ae1baa7ad",
        "colab": {
          "base_uri": "https://localhost:8080/",
          "height": 618
        }
      },
      "cell_type": "code",
      "source": [
        "# Outcome correlation matrix\n",
        "\n",
        "k = 9 # number of variables for heatmap\n",
        "cols = df.corr().nlargest(k, 'Outcome')['Outcome'].index\n",
        "corr_mat = df[cols].corr()\n",
        "\n",
        "# Visualize\n",
        "plt.figure(figsize=(10, 5))\n",
        "sns.heatmap(\n",
        "    corr_mat, cmap='viridis', annot=True,\n",
        ");"
      ],
      "execution_count": 21,
      "outputs": [
        {
          "output_type": "display_data",
          "data": {
            "text/plain": [
              "<Figure size 1000x500 with 2 Axes>"
            ],
            "image/png": "[encoded data removed]"
          },
          "metadata": {}
        }
      ]
    },
    {
      "cell_type": "code",
      "source": [
        "# df.loc[df.Pregnancies==12]"
      ],
      "metadata": {
        "id": "QW05NPrCJTUg"
      },
      "execution_count": 22,
      "outputs": []
    },
    {
      "metadata": {
        "trusted": true,
        "id": "53ESPdeZpH8c",
        "outputId": "9c334b48-48e6-4301-d84e-218a4c2a2667",
        "colab": {
          "base_uri": "https://localhost:8080/",
          "height": 1000
        }
      },
      "cell_type": "code",
      "source": [
        "# see how the data is distributed.\n",
        "df.hist(figsize=(20,20));"
      ],
      "execution_count": 23,
      "outputs": [
        {
          "output_type": "display_data",
          "data": {
            "text/plain": [
              "<Figure size 2000x2000 with 9 Axes>"
            ],
            "image/png": "[encoded data removed]"
          },
          "metadata": {}
        }
      ]
    },
    {
      "cell_type": "code",
      "source": [
        "df['Age'].mean(), df['Age'].median()"
      ],
      "metadata": {
        "id": "bpw8XaakXvik",
        "outputId": "294792fa-c157-464a-d6c8-743d8e0dde74",
        "colab": {
          "base_uri": "https://localhost:8080/"
        }
      },
      "execution_count": 24,
      "outputs": [
        {
          "output_type": "execute_result",
          "data": {
            "text/plain": [
              "(33.240885416666664, 29.0)"
            ]
          },
          "metadata": {},
          "execution_count": 24
        }
      ]
    },
    {
      "metadata": {
        "trusted": true,
        "id": "aJT2MFTJpH8c"
      },
      "cell_type": "code",
      "source": [
        "for col in df.columns:\n",
        "    if col != \"Outcome\":\n",
        "        sns.catplot(\n",
        "            data=df, x=\"Outcome\",\n",
        "            y=col, hue=\"Outcome\")\n",
        "        plt.grid()"
      ],
      "execution_count": null,
      "outputs": []
    },
    {
      "metadata": {
        "id": "9jmyjtbHpH8c"
      },
      "cell_type": "markdown",
      "source": [
        "# 4.&nbsp;Data Preprocessing"
      ]
    },
    {
      "metadata": {
        "trusted": true,
        "id": "5F2L9TWPpH8c"
      },
      "cell_type": "code",
      "source": [
        "# Observation units for variables with a minimum value of zero are NaN,\n",
        "# except for the pregnancy variable.\n",
        "df.describe(\n",
        "    percentiles=[0.05, 0.25, 0.50, 0.75, 0.90, 0.95, 0.99]\n",
        ").T"
      ],
      "execution_count": null,
      "outputs": []
    },
    {
      "cell_type": "markdown",
      "source": [
        "## Handling Missing Values: Imputation"
      ],
      "metadata": {
        "id": "PJzrziClXMwc"
      }
    },
    {
      "metadata": {
        "trusted": true,
        "id": "wUv6_CyTpH8c"
      },
      "cell_type": "code",
      "source": [
        "# NaN values of 0 for Glucose, Blood Pressure, Skin Thickness, Insulin, BMI\n",
        "# We can write Nan instead of 0\n",
        "\n",
        "cols = [\"Glucose\", \"BloodPressure\", \"SkinThickness\", \"Insulin\", \"BMI\"]\n",
        "for col in cols:\n",
        "    df[col].replace(0, np.NaN, inplace=True)"
      ],
      "execution_count": null,
      "outputs": []
    },
    {
      "metadata": {
        "trusted": true,
        "id": "s2Mq-kLVpH8c"
      },
      "cell_type": "code",
      "source": [
        "# now we can see missing values\n",
        "df.isnull().sum()"
      ],
      "execution_count": null,
      "outputs": []
    },
    {
      "cell_type": "code",
      "source": [
        "df[\"Outcome\"] == 0"
      ],
      "metadata": {
        "id": "awRIitDeYvYW"
      },
      "execution_count": null,
      "outputs": []
    },
    {
      "metadata": {
        "trusted": true,
        "id": "-xxne2swpH8c"
      },
      "cell_type": "code",
      "source": [
        "# We can fill in NaN values with a median\n",
        "# according to the target value\n",
        "\n",
        "cols = [\n",
        "    \"Glucose\",\n",
        "    \"BloodPressure\",\n",
        "    \"SkinThickness\",\n",
        "    \"Insulin\",\n",
        "    \"BMI\"\n",
        "]\n",
        "\n",
        "mask_label_zero = (df[\"Outcome\"] == 0)\n",
        "mask_label_one = (df[\"Outcome\"] == 1)\n",
        "\n",
        "for col in cols:\n",
        "\n",
        "    mask_col_null = df[col].isnull()\n",
        "    col_median_zero = df[mask_label_zero][col].median()\n",
        "    col_median_one = df[mask_label_one][col].median()\n",
        "\n",
        "    df.loc[(mask_label_zero & mask_col_null), col] = col_median_zero\n",
        "    df.loc[(mask_label_one & mask_col_null), col] = col_median_one"
      ],
      "execution_count": null,
      "outputs": []
    },
    {
      "metadata": {
        "trusted": true,
        "id": "8IH1GpC6pH8d"
      },
      "cell_type": "code",
      "source": [
        "df.isnull().sum()"
      ],
      "execution_count": null,
      "outputs": []
    },
    {
      "cell_type": "code",
      "source": [
        "# df[(df['Pregnancies'] == 1)].any(axis=0)\n",
        "# df[(df['Pregnancies'] == 1)].any(axis=None)\n",
        "# (df['Pregnancies'] == 1).all(axis=None)"
      ],
      "metadata": {
        "id": "p7RHcbkqgG6Y"
      },
      "execution_count": null,
      "outputs": []
    },
    {
      "cell_type": "markdown",
      "source": [
        "## Outlier Handling"
      ],
      "metadata": {
        "id": "HTswH8DGX_pl"
      }
    },
    {
      "metadata": {
        "trusted": true,
        "id": "bk5GnbkopH8d"
      },
      "cell_type": "code",
      "source": [
        "def outlier_thresholds(\n",
        "        df, feature,\n",
        "        quantile_lower=0.25,\n",
        "        quantile_upper=0.75):\n",
        "\n",
        "    Q1 = df[feature].quantile(quantile_lower)\n",
        "    Q3 = df[feature].quantile(quantile_upper)\n",
        "    IQR = Q3 - Q1\n",
        "\n",
        "    lower_limit = Q1 - 1.5 * IQR\n",
        "    upper_limit = Q3 + 1.5 * IQR\n",
        "\n",
        "    return lower_limit, upper_limit"
      ],
      "execution_count": null,
      "outputs": []
    },
    {
      "metadata": {
        "trusted": true,
        "id": "WVkU2SzPpH8d"
      },
      "cell_type": "code",
      "source": [
        "def has_outliers(\n",
        "        df, feature,\n",
        "        quantile_lower=0.25,\n",
        "        quantile_upper=0.75):\n",
        "    \"\"\"\n",
        "    Args:\n",
        "        df (pd.DataFrame): DataFrame containing feature\n",
        "        feature (str): feature name to be checked\n",
        "\n",
        "    Return:\n",
        "        bool: Is outlier(s) exist in given feature in the DataFrame\n",
        "    \"\"\"\n",
        "    low_lim, up_lim = outlier_thresholds(\n",
        "        df, feature, quantile_lower, quantile_upper)\n",
        "    exist_lower_outliers = (df[feature] < low_lim).any(axis=None)\n",
        "    exist_upper_outliers = (df[feature] > up_lim).any(axis=None)\n",
        "\n",
        "    return (exist_lower_outliers or exist_upper_outliers)"
      ],
      "execution_count": null,
      "outputs": []
    },
    {
      "metadata": {
        "trusted": true,
        "id": "JYYdvE5EpH8d"
      },
      "cell_type": "code",
      "source": [
        "for feat in df.columns:\n",
        "    exist_outliers = has_outliers(\n",
        "        df, feat, quantile_lower=0.1, quantile_upper=0.9)\n",
        "    if exist_outliers:\n",
        "        print(f\"Outliers exist in {feat}!\")"
      ],
      "execution_count": null,
      "outputs": []
    },
    {
      "cell_type": "code",
      "source": [
        "feats_with_outliers = []\n",
        "\n",
        "for feat in df.columns:\n",
        "    exist_outliers = has_outliers(\n",
        "        df, feat, quantile_lower=0.1, quantile_upper=0.9)\n",
        "    if exist_outliers:\n",
        "        feats_with_outliers.append(feat)"
      ],
      "metadata": {
        "id": "XEu9YpVLWTz-"
      },
      "execution_count": null,
      "outputs": []
    },
    {
      "cell_type": "code",
      "source": [
        "feats_with_outliers"
      ],
      "metadata": {
        "id": "EmiSbkrxWyiM"
      },
      "execution_count": null,
      "outputs": []
    },
    {
      "metadata": {
        "trusted": true,
        "id": "imfEO7KgpH8d"
      },
      "cell_type": "code",
      "source": [
        "def replace_with_thresholds(df, numerical_feats):\n",
        "    for feat in numerical_feats:\n",
        "        low_limit, up_limit = outlier_thresholds(df, feat)\n",
        "\n",
        "        mask_lower = (df[feat] < low_limit)\n",
        "        mask_upper = (df[feat] > up_limit)\n",
        "\n",
        "        df.loc[mask_lower, feat] = low_limit\n",
        "        df.loc[mask_upper, feat] = up_limit"
      ],
      "execution_count": null,
      "outputs": []
    },
    {
      "metadata": {
        "trusted": true,
        "id": "nXMwAIcWpH8d"
      },
      "cell_type": "code",
      "source": [
        "replace_with_thresholds(df,feats_with_outliers)"
      ],
      "execution_count": null,
      "outputs": []
    },
    {
      "metadata": {
        "trusted": true,
        "id": "nxMQkwzWpH8d"
      },
      "cell_type": "code",
      "source": [
        "df.describe(\n",
        "    percentiles=[0.05, 0.25, 0.50, 0.75, 0.90, 0.95, 0.99]).T"
      ],
      "execution_count": null,
      "outputs": []
    },
    {
      "metadata": {
        "id": "QhASSSVppH8d"
      },
      "cell_type": "markdown",
      "source": [
        "# 5.&nbsp;Feature Engineering\n",
        "\n",
        "See 1.1 & 1.2"
      ]
    },
    {
      "cell_type": "markdown",
      "source": [
        "## Feature Categorization"
      ],
      "metadata": {
        "id": "m1P-7nAgvB_V"
      }
    },
    {
      "cell_type": "code",
      "source": [
        "max(df['Glucose'])"
      ],
      "metadata": {
        "id": "LJ5kLb_mgiwP"
      },
      "execution_count": null,
      "outputs": []
    },
    {
      "metadata": {
        "trusted": true,
        "id": "n2m4eO3SpH8d"
      },
      "cell_type": "code",
      "source": [
        "df['New_Glucose_Class'] = pd.cut(\n",
        "    x=df['Glucose'],\n",
        "    bins=[0, 139, 200],\n",
        "    labels=[\"Normal\", \"Pre-Diabetes\"]\n",
        ")"
      ],
      "execution_count": null,
      "outputs": []
    },
    {
      "cell_type": "code",
      "source": [
        "df['New_Glucose_Class'].value_counts(normalize=True)"
      ],
      "metadata": {
        "id": "HSX55JjgOfBu"
      },
      "execution_count": null,
      "outputs": []
    },
    {
      "metadata": {
        "trusted": true,
        "id": "UHtG4ylepH8d"
      },
      "cell_type": "code",
      "source": [
        "df['New_BMI_Range'] = pd.cut(\n",
        "    x=df['BMI'],\n",
        "    bins=[0, 18.5, 24.9, 29.9, 100],\n",
        "    labels=[\"Underweight\", \"Healthy\", \"Overweight\", \"Obese\"]\n",
        ")\n",
        "\n",
        "df['New_BMI_Range'].value_counts(normalize=True)"
      ],
      "execution_count": null,
      "outputs": []
    },
    {
      "metadata": {
        "trusted": true,
        "id": "3Nt6tu5wpH8d"
      },
      "cell_type": "code",
      "source": [
        "df['New_BloodPressure'] = pd.cut(\n",
        "    x=df['BloodPressure'],\n",
        "    bins=[0, 79, 89, 123],\n",
        "    labels=[\"Normal\", \"HS1\", \"HS2\"]\n",
        ")\n",
        "\n",
        "df['New_BloodPressure'].value_counts(normalize=True)"
      ],
      "execution_count": null,
      "outputs": []
    },
    {
      "metadata": {
        "trusted": true,
        "id": "W3_QLmXmpH8d"
      },
      "cell_type": "code",
      "source": [
        "df['New_SkinThickness'] = (\n",
        "    df['SkinThickness']\n",
        "    .apply(lambda x: 1 if x <= 18.0 else 0)\n",
        ")"
      ],
      "execution_count": null,
      "outputs": []
    },
    {
      "metadata": {
        "trusted": true,
        "id": "1bHAg0eRpH8j"
      },
      "cell_type": "code",
      "source": [
        "df.head()"
      ],
      "execution_count": null,
      "outputs": []
    },
    {
      "cell_type": "markdown",
      "source": [
        "## One-Hot Encoding"
      ],
      "metadata": {
        "id": "kKgHHewrvITK"
      }
    },
    {
      "metadata": {
        "trusted": true,
        "id": "_hK4mk2spH8j"
      },
      "cell_type": "code",
      "source": [
        "def one_hot_encoder(\n",
        "        df, categorical_feats,\n",
        "        nan_as_category=False):\n",
        "\n",
        "    original_columns = list(df.columns)\n",
        "\n",
        "    df = pd.get_dummies(\n",
        "        df,\n",
        "        columns=categorical_feats,\n",
        "        dummy_na=nan_as_category,\n",
        "        drop_first=True\n",
        "    )\n",
        "\n",
        "    new_columns = [col for col in df.columns if col not in original_columns]\n",
        "    return df, new_columns"
      ],
      "execution_count": null,
      "outputs": []
    },
    {
      "metadata": {
        "trusted": true,
        "id": "SSQEXDTfpH8j"
      },
      "cell_type": "code",
      "source": [
        "categorical_feats = [feat for feat in df.columns if len(df[feat].unique()) <= 10 and feat != \"Outcome\"]\n",
        "categorical_feats"
      ],
      "execution_count": null,
      "outputs": []
    },
    {
      "metadata": {
        "trusted": true,
        "id": "Jvf_dRnOpH8j"
      },
      "cell_type": "code",
      "source": [
        "df, new_cols_ohe = one_hot_encoder(df, categorical_feats)\n",
        "new_cols_ohe"
      ],
      "execution_count": null,
      "outputs": []
    },
    {
      "metadata": {
        "trusted": true,
        "id": "yIypy3SQpH8j"
      },
      "cell_type": "code",
      "source": [
        "df.head()"
      ],
      "execution_count": null,
      "outputs": []
    },
    {
      "cell_type": "markdown",
      "source": [
        "## Feature Scaling"
      ],
      "metadata": {
        "id": "LMvA-owVvhR4"
      }
    },
    {
      "cell_type": "code",
      "source": [
        "like_num = [col for col in df.columns if df[col].dtypes != 'O' and len(df[col].value_counts()) < 10]\n",
        "no_need_to_scaled = new_cols_ohe + [\"Outcome\"] + like_num\n",
        "cols_need_scale = [col for col in df.columns if col not in no_need_to_scaled]\n",
        "\n",
        "print(\"List of columns that need to be scaled:\\n\", cols_need_scale)\n",
        "rs = RobustScaler()\n",
        "df.loc[:, cols_need_scale] = rs.fit_transform(df[cols_need_scale])\n",
        "print(\"Feature Scaling, Done!\")"
      ],
      "metadata": {
        "id": "150aMKB75DBp"
      },
      "execution_count": null,
      "outputs": []
    },
    {
      "cell_type": "code",
      "source": [
        "like_num"
      ],
      "metadata": {
        "id": "QkXRrS5dZVhF"
      },
      "execution_count": null,
      "outputs": []
    },
    {
      "cell_type": "code",
      "source": [
        "df.head()"
      ],
      "metadata": {
        "id": "GOcFplC-9oy8"
      },
      "execution_count": null,
      "outputs": []
    },
    {
      "metadata": {
        "trusted": true,
        "id": "yEnh2wYPpH8k"
      },
      "cell_type": "code",
      "source": [
        "df.info()"
      ],
      "execution_count": null,
      "outputs": []
    },
    {
      "metadata": {
        "id": "aGpBtlaRpH8k"
      },
      "cell_type": "markdown",
      "source": [
        "# 6.&nbsp;Modeling"
      ]
    },
    {
      "cell_type": "markdown",
      "source": [
        "## Notes: Metric Evaluation\n",
        "\n",
        "See [classification_report](https://scikit-learn.org/stable/modules/generated/sklearn.metrics.classification_report.html)\n",
        "\n",
        "The choice between micro-average, macro-average, or weighted-average in the classification_report from scikit-learn depends on your specific use case and the characteristics of your data. Each average type provides a different perspective on the overall model performance.\n",
        "\n",
        "Here's a brief explanation of each average type:\n",
        "\n",
        "1. **Micro-average:**\n",
        "\n",
        "    Calculates metrics globally by considering all instances together.\n",
        "\n",
        "    Suitable when classes are imbalanced, and you want to treat all instances equally.\n",
        "    Gives equal weight to each data point, regardless of class.\n",
        "\n",
        "2. **Macro-average:**\n",
        "\n",
        "    Calculates metrics for each class independently and then takes the unweighted average.\n",
        "\n",
        "    Suitable when you want to evaluate the overall performance across all classes without considering class imbalances.\n",
        "    Gives equal weight to each class, regardless of the number of instances in each class.\n",
        "\n",
        "3. **Weighted-average:**\n",
        "\n",
        "    Calculates metrics for each class independently and then takes the average, weighted by the number of true instances for each class.\n",
        "\n",
        "    Suitable when classes are imbalanced, and you want to give more importance to the performance on larger classes.\n",
        "    Provides a balanced view of the overall performance by accounting for class imbalances.\n",
        "\n",
        "In summary:\n",
        "\n",
        "- Use micro-average when you want to treat all instances equally, especially in the presence of class imbalances.\n",
        "\n",
        "- Use macro-average when you want to evaluate the overall performance without considering class imbalances.\n",
        "\n",
        "- Use weighted-average when you want to account for class imbalances and give more importance to the larger classes.\n",
        "\n",
        "\n",
        "It's essential to choose the appropriate average based on the goals of your analysis and the nature of your data.\n",
        "\n",
        "In some cases, you may need to consider multiple metrics and averages to get a comprehensive understanding of your model's performance."
      ],
      "metadata": {
        "id": "tbdRBJyC71R6"
      }
    },
    {
      "metadata": {
        "trusted": true,
        "id": "qhN1Z7UppH8k"
      },
      "cell_type": "code",
      "source": [
        "X = df.drop(\"Outcome\", axis=1)\n",
        "y = df[\"Outcome\"]"
      ],
      "execution_count": null,
      "outputs": []
    },
    {
      "cell_type": "code",
      "source": [
        "X_train, X_test, y_train, y_test = train_test_split(\n",
        "    X, y,\n",
        "    test_size=0.1,    # 10% for testing\n",
        "    stratify=y,       # Stratified sampling based on labels\n",
        "    random_state=42   # Random seed for reproducibility\n",
        ")"
      ],
      "metadata": {
        "id": "qEXfKYXwwDvE"
      },
      "execution_count": null,
      "outputs": []
    },
    {
      "cell_type": "code",
      "source": [
        "print(\"y train:\", y_train.value_counts(normalize=True))\n",
        "print(\"\\n\")\n",
        "print(\"y test:\", y_test.value_counts(normalize=True))"
      ],
      "metadata": {
        "id": "NBNGBIQtjSZq"
      },
      "execution_count": null,
      "outputs": []
    },
    {
      "cell_type": "code",
      "source": [
        "from sklearn.metrics import (\n",
        "    accuracy_score, precision_score,\n",
        "    recall_score, f1_score\n",
        ")"
      ],
      "metadata": {
        "id": "g2dV_VdCLzz7"
      },
      "execution_count": null,
      "outputs": []
    },
    {
      "cell_type": "code",
      "source": [
        "models = [\n",
        "    ('LR', LogisticRegression()),\n",
        "    ('KNN', KNeighborsClassifier()),\n",
        "    ('CART', DecisionTreeClassifier()),\n",
        "    ('RF', RandomForestClassifier()),\n",
        "    ('SVC', SVC(gamma='auto')),\n",
        "    ('XGBM', XGBClassifier()),\n",
        "    ('GB', GradientBoostingClassifier()),\n",
        "    ('LightGB', LGBMClassifier())\n",
        "]\n",
        "\n",
        "# Evaluate each model in turn\n",
        "scorings = [\n",
        "    'accuracy', 'f1_macro',\n",
        "    'precision_macro', 'recall_macro'\n",
        "]\n",
        "\n",
        "model_perf = {}\n",
        "\n",
        "# For each model\n",
        "for name, model in models:\n",
        "\n",
        "    results = {}\n",
        "\n",
        "    # for each scorings\n",
        "    for scoring in scorings:\n",
        "        score_mean = []\n",
        "        score_std = []\n",
        "\n",
        "        # Define K-Fold\n",
        "        kfold = KFold(\n",
        "            n_splits=10, shuffle=True,\n",
        "            random_state=42)\n",
        "\n",
        "        # Training with cross validation\n",
        "        cv_results = cross_val_score(\n",
        "            model, X_train, y_train,\n",
        "            cv=kfold, scoring=scoring)\n",
        "\n",
        "        # Save Training Result\n",
        "        results[scoring] = {\n",
        "            'train_mean': cv_results.mean(),\n",
        "            'train_std': cv_results.std()\n",
        "        }\n",
        "\n",
        "    model_perf[name] = results"
      ],
      "metadata": {
        "id": "sykoKqTWz0Eo"
      },
      "execution_count": null,
      "outputs": []
    },
    {
      "cell_type": "code",
      "source": [
        "model_perf"
      ],
      "metadata": {
        "id": "TEBM6ceVTxX7"
      },
      "execution_count": null,
      "outputs": []
    },
    {
      "cell_type": "code",
      "source": [
        "focus_metric = 'recall_macro'\n",
        "perf_data = {\n",
        "    \"model_type\": [],\n",
        "    f\"train_avg_{focus_metric}\": [],\n",
        "    f\"train_stddev_{focus_metric}\": []\n",
        "}\n",
        "\n",
        "for model_name, perf in model_perf.items():\n",
        "    mean = perf[focus_metric]['train_mean']\n",
        "    std = perf[focus_metric]['train_std']\n",
        "    perf_data[\"model_type\"].append(model_name)\n",
        "    perf_data[f\"train_avg_{focus_metric}\"].append(mean)\n",
        "    perf_data[f\"train_stddev_{focus_metric}\"].append(std)\n",
        "\n",
        "eval_result = pd.DataFrame(perf_data)\n",
        "eval_result"
      ],
      "metadata": {
        "id": "C7Uhwf7yEF3j"
      },
      "execution_count": null,
      "outputs": []
    },
    {
      "cell_type": "code",
      "source": [
        "model = RandomForestClassifier()\n",
        "model.fit(X_train, y_train)\n",
        "\n",
        "# Make predictions on the test set\n",
        "y_pred_test = model.predict(X_test)\n",
        "\n",
        "# Evaluate the model on the test set\n",
        "accuracy_test = accuracy_score(y_test, y_pred_test)\n",
        "precision_test = precision_score(y_test, y_pred_test, average='macro')\n",
        "recall_test = recall_score(y_test, y_pred_test, average='macro')\n",
        "f1_test = f1_score(y_test, y_pred_test, average='macro')\n",
        "\n",
        "# Print or use the test set scores as needed\n",
        "print(f\"Test Set Accuracy: {accuracy_test:.4f}\")\n",
        "print(f\"Test Set Precision: {precision_test:.4f}\")\n",
        "print(f\"Test Set Recall: {recall_test:.4f}\")\n",
        "print(f\"Test Set F1 Score: {f1_test:.4f}\")"
      ],
      "metadata": {
        "id": "oYt6YYlAK9iu"
      },
      "execution_count": null,
      "outputs": []
    },
    {
      "metadata": {
        "id": "gsLEmtoxpH8k"
      },
      "cell_type": "markdown",
      "source": [
        "## 6.1 Model Hyper-Parameter Tuning"
      ]
    },
    {
      "metadata": {
        "trusted": true,
        "id": "qoajD3lMpH8k"
      },
      "cell_type": "code",
      "source": [
        "# Let's choose the highest 4 models\n",
        "# GBM\n",
        "gbm_model = GradientBoostingClassifier()\n",
        "\n",
        "# Model Tuning\n",
        "gbm_params = {\n",
        "    \"learning_rate\": [0.001, 0.01, 0.1],\n",
        "    \"max_depth\": [3, 5, 8],\n",
        "    \"n_estimators\": [200, 500, 1000],\n",
        "    \"subsample\": [1, 0.5, 0.8]\n",
        "}\n",
        "\n",
        "gbm_cv_model = GridSearchCV(\n",
        "    gbm_model,\n",
        "    gbm_params,\n",
        "    cv=3,\n",
        "    n_jobs=-1,\n",
        "    verbose=2).fit(X, y)\n",
        "\n",
        "print(gbm_cv_model.best_params_)\n",
        "\n",
        "# Final Model\n",
        "gbm_tuned = GradientBoostingClassifier(**gbm_cv_model.best_params_).fit(X_train, y_train)"
      ],
      "execution_count": null,
      "outputs": []
    },
    {
      "metadata": {
        "trusted": true,
        "id": "Xk_pQNOrpH8k"
      },
      "cell_type": "code",
      "source": [
        "# LightGBM:\n",
        "lgb_model = LGBMClassifier()\n",
        "\n",
        "# Model Tuning\n",
        "lgbm_params = {\n",
        "    \"learning_rate\": [0.01, 0.5, 1],\n",
        "    \"n_estimators\": [200, 500, 1000],\n",
        "    \"max_depth\": [6, 8, 10],\n",
        "    \"colsample_bytree\": [1, 0.4, 0.5]\n",
        "}\n",
        "\n",
        "lgbm_cv_model = GridSearchCV(\n",
        "    lgb_model,\n",
        "    lgbm_params,\n",
        "    cv=3,\n",
        "    n_jobs=-1,\n",
        "    verbose=2).fit(X, y)\n",
        "\n",
        "print(lgbm_cv_model.best_params_)\n",
        "\n",
        "# Final Model\n",
        "lgbm_tuned = LGBMClassifier(**lgbm_cv_model.best_params_).fit(X_train, y_train)"
      ],
      "execution_count": null,
      "outputs": []
    },
    {
      "metadata": {
        "trusted": true,
        "id": "RsYMreAupH8k"
      },
      "cell_type": "code",
      "source": [
        "# Random Forests:\n",
        "rf_model = RandomForestClassifier()\n",
        "\n",
        "# Model Tuning\n",
        "rf_params = {\n",
        "    \"n_estimators\" :[200, 500, 1000],\n",
        "    \"max_features\": [3, 5, 7],\n",
        "    \"min_samples_split\": [2, 5, 10],\n",
        "    \"max_depth\": [5, 8, None]\n",
        "}\n",
        "\n",
        "rf_cv_model = GridSearchCV(\n",
        "    rf_model,\n",
        "    rf_params,\n",
        "    cv=3,\n",
        "    n_jobs=-1,\n",
        "    verbose=2).fit(X_train, y_train)\n",
        "\n",
        "print(rf_cv_model.best_params_)\n",
        "\n",
        "# Final Model\n",
        "rf_tuned = RandomForestClassifier(**rf_cv_model.best_params_).fit(X, y)"
      ],
      "execution_count": null,
      "outputs": []
    },
    {
      "metadata": {
        "trusted": true,
        "id": "csphSg5jpH8k"
      },
      "cell_type": "code",
      "source": [
        "# XGB\n",
        "xgb_model = XGBClassifier()\n",
        "\n",
        "# Model Tuning\n",
        "xgb_params = {\n",
        "    \"learning_rate\": [0.01, 0.1, 0.2],\n",
        "    \"min_samples_split\": np.linspace(0.1, 0.5, 10),\n",
        "    \"max_depth\":[3, 5, 8],\n",
        "    \"subsample\":[0.5, 0.9, 1.0],\n",
        "    \"n_estimators\": [100, 1000]\n",
        "}\n",
        "\n",
        "xgb_cv_model = GridSearchCV(\n",
        "    xgb_model,\n",
        "    xgb_params,\n",
        "    cv=3,\n",
        "    n_jobs=-1,\n",
        "    verbose=2).fit(X_train, y_train)\n",
        "\n",
        "print(xgb_cv_model.best_params_)\n",
        "\n",
        "xgb_tuned = XGBClassifier(**xgb_cv_model.best_params_).fit(X, y)"
      ],
      "execution_count": null,
      "outputs": []
    },
    {
      "metadata": {
        "trusted": true,
        "id": "BXx4Ft6EpH8k"
      },
      "cell_type": "code",
      "source": [
        "# evaluate each model in turn\n",
        "models = [\n",
        "    ('RF', rf_tuned),\n",
        "    ('GBM', gbm_tuned),\n",
        "    (\"LightGBM\", lgbm_tuned),\n",
        "    (\"XGB\", xgb_tuned),\n",
        "    #...,\n",
        "    #...,\n",
        "]\n",
        "\n",
        "# Evaluate each model in turn\n",
        "scorings = [\n",
        "    'accuracy', 'f1_macro',\n",
        "    'precision_macro', 'recall_macro'\n",
        "]\n",
        "\n",
        "model_training_perf = {}\n",
        "\n",
        "# For each model\n",
        "for name, model in models:\n",
        "\n",
        "    results = {}\n",
        "\n",
        "    # for each scorings\n",
        "    for scoring in scorings:\n",
        "        score_mean = []\n",
        "        score_std = []\n",
        "\n",
        "        # Define K-Fold\n",
        "        kfold = KFold(\n",
        "            n_splits=5, shuffle=True,\n",
        "            random_state=42)\n",
        "\n",
        "        # Training with cross validation\n",
        "        cv_results = cross_val_score(\n",
        "            model, X_test, y_test,\n",
        "            cv=kfold, scoring=scoring)\n",
        "\n",
        "        # Save Training Result\n",
        "        results[scoring] = {\n",
        "            'train_mean': cv_results.mean(),\n",
        "            'train_std': cv_results.std()\n",
        "        }\n",
        "\n",
        "    model_training_perf[name] = results"
      ],
      "execution_count": null,
      "outputs": []
    },
    {
      "cell_type": "markdown",
      "source": [
        "## 6.2 Model Training Evaluation"
      ],
      "metadata": {
        "id": "hrJu0GXOArSr"
      }
    },
    {
      "cell_type": "code",
      "source": [
        "import pickle\n",
        "import os\n",
        "os.makedirs(\"models\")\n",
        "\n",
        "# Define the list of models with their names\n",
        "models = [\n",
        "    ('RF', rf_tuned),\n",
        "    ('GBM', gbm_tuned),\n",
        "    (\"LightGBM\", lgbm_tuned),\n",
        "    (\"XGB\", xgb_tuned),\n",
        "]\n",
        "\n",
        "# Iterate over each model in the list\n",
        "for model_name, model in models:\n",
        "    # Specify the file path where you want to save the model\n",
        "    file_path = f\"models/{model_name}_model.pkl\"\n",
        "\n",
        "    # Open the file in binary write mode\n",
        "    with open(file_path, 'wb') as file:\n",
        "        # Use pickle.dump() to serialize and save the model to the file\n",
        "        pickle.dump(model, file)"
      ],
      "metadata": {
        "id": "6P5VfH41oGtl"
      },
      "execution_count": null,
      "outputs": []
    },
    {
      "cell_type": "code",
      "source": [
        "# model_training_perf"
      ],
      "metadata": {
        "id": "y3_6TK34weZs"
      },
      "execution_count": null,
      "outputs": []
    },
    {
      "cell_type": "code",
      "source": [
        "file_path = \"model_training_perf.pkl\"\n",
        "with open(file_path, 'wb') as file:\n",
        "    pickle.dump(model_training_perf, file)"
      ],
      "metadata": {
        "id": "2MbFhcgVnoeo"
      },
      "execution_count": null,
      "outputs": []
    },
    {
      "cell_type": "code",
      "source": [
        "model_training_perf_df = pd.concat(\n",
        "    {\n",
        "        k: pd.DataFrame.from_dict(v, 'index') for k, v in model_training_perf.items()\n",
        "    },\n",
        "    axis=0\n",
        ")\n",
        "\n",
        "model_training_perf_df.index.rename(\n",
        "    ['model_name', 'eval_metric'],\n",
        "    inplace=True\n",
        ")\n",
        "\n",
        "model_training_perf_df"
      ],
      "metadata": {
        "id": "HbpEWlka6OqV"
      },
      "execution_count": null,
      "outputs": []
    },
    {
      "cell_type": "code",
      "source": [
        "import seaborn as sns\n",
        "sns.set_theme(style=\"whitegrid\")"
      ],
      "metadata": {
        "id": "z6jFggmTCT6E"
      },
      "execution_count": null,
      "outputs": []
    },
    {
      "cell_type": "code",
      "source": [
        "train_viz_data = (\n",
        "    model_training_perf_df\n",
        "    .loc[(slice(None), slice(None)), :].\n",
        "    train_mean\n",
        "    .reset_index()\n",
        ")\n",
        "\n",
        "train_viz_data"
      ],
      "metadata": {
        "id": "TGCZNdwkC2Dy"
      },
      "execution_count": null,
      "outputs": []
    },
    {
      "cell_type": "code",
      "source": [
        "# fig, ax = plt.subplots()\n",
        "g=sns.catplot(\n",
        "    data=train_viz_data,\n",
        "    kind=\"bar\",\n",
        "    x=\"model_name\",\n",
        "    y=\"train_mean\",\n",
        "    hue=\"eval_metric\",\n",
        "    palette=\"dark\",\n",
        "    alpha=.6,\n",
        "    height=6\n",
        ");\n",
        "\n",
        "# Set axis labels\n",
        "g.set_axis_labels(\"\", \"mean_score\")\n",
        "\n",
        "# Set legend title\n",
        "g.legend.set_title(\"Metric\")\n",
        "\n",
        "# Set figure title\n",
        "g.fig.suptitle(\"Model Evaluation On Train Data\\n\")\n",
        "\n",
        "# Set y-ticks with a scale of 0.05\n",
        "g.ax.set_yticks([i * 0.05 for i in range(int(g.ax.get_ylim()[1] / 0.05) + 1)])\n",
        "\n",
        "# Show the plot\n",
        "plt.show()"
      ],
      "metadata": {
        "id": "2EURAf5xD5P8"
      },
      "execution_count": null,
      "outputs": []
    },
    {
      "cell_type": "markdown",
      "source": [
        "## 6.3 Model Selection\n",
        "Evaluation on Test Data"
      ],
      "metadata": {
        "id": "8y3TqVHJA8Uw"
      }
    },
    {
      "cell_type": "code",
      "source": [
        "import pickle\n",
        "\n",
        "# Define a list to store the loaded models\n",
        "loaded_models = []\n",
        "\n",
        "# Define the list of model names\n",
        "model_names = ['RF', 'GBM', 'LightGBM', 'XGB']\n",
        "\n",
        "# Iterate over each model name\n",
        "for model_name in model_names:\n",
        "    # Specify the file path of the corresponding .pkl file\n",
        "    file_path = f\"models/{model_name}_model.pkl\"\n",
        "\n",
        "    # Open the file in binary read mode\n",
        "    with open(file_path, 'rb') as file:\n",
        "        # Use pickle.load() to deserialize and load the model from the file\n",
        "        loaded_model = pickle.load(file)\n",
        "\n",
        "        # Append the loaded model to the list of loaded models\n",
        "        loaded_models.append((model_name, loaded_model))"
      ],
      "metadata": {
        "id": "rRtdd2xDAhjO"
      },
      "execution_count": null,
      "outputs": []
    },
    {
      "cell_type": "code",
      "source": [
        "from sklearn.metrics import (\n",
        "    accuracy_score, f1_score,\n",
        "    precision_score, recall_score\n",
        ")\n",
        "\n",
        "# Define lists to store the evaluation metrics for each model\n",
        "accuracies = []\n",
        "f1_scores = []\n",
        "precisions = []\n",
        "recalls = []\n",
        "\n",
        "# Iterate over each loaded model\n",
        "for model_name, loaded_model in loaded_models:\n",
        "    # Predict using the loaded model on the test data\n",
        "    y_pred = loaded_model.predict(X_test)\n",
        "\n",
        "    # Calculate evaluation metrics\n",
        "    accuracy = accuracy_score(y_test, y_pred)\n",
        "    f1 = f1_score(y_test, y_pred)\n",
        "    precision = precision_score(y_test, y_pred)\n",
        "    recall = recall_score(y_test, y_pred)\n",
        "\n",
        "    # Append the metrics to the respective lists\n",
        "    accuracies.append((model_name, accuracy))\n",
        "    f1_scores.append((model_name, f1))\n",
        "    precisions.append((model_name, precision))\n",
        "    recalls.append((model_name, recall))\n",
        "\n",
        "evaluation_results = pd.DataFrame({\n",
        "    'Model': [model_name for model_name, _ in loaded_models],\n",
        "    'Accuracy': [accuracy for _, accuracy in accuracies],\n",
        "    'F1 Score': [f1 for _, f1 in f1_scores],\n",
        "    'Precision': [precision for _, precision in precisions],\n",
        "    'Recall': [recall for _, recall in recalls],\n",
        "})\n",
        "\n",
        "# Print the DataFrame\n",
        "evaluation_results"
      ],
      "metadata": {
        "id": "9Grrb-pV02Yz"
      },
      "execution_count": null,
      "outputs": []
    },
    {
      "cell_type": "code",
      "source": [
        "# Melt the evaluation_results DataFrame\n",
        "melted_evaluation_results = pd.melt(\n",
        "    evaluation_results,\n",
        "    id_vars=['Model'],\n",
        "    value_vars=[\n",
        "        'Accuracy', 'F1 Score',\n",
        "        'Precision', 'Recall'\n",
        "    ],\n",
        "    var_name='Metric',\n",
        "    value_name='Value'\n",
        ")\n",
        "\n",
        "# Print the melted DataFrame\n",
        "melted_evaluation_results"
      ],
      "metadata": {
        "id": "4EE9uQjk4Hpl"
      },
      "execution_count": null,
      "outputs": []
    },
    {
      "cell_type": "code",
      "source": [
        "# fig, ax = plt.subplots()\n",
        "g=sns.catplot(\n",
        "    data=melted_evaluation_results,\n",
        "    kind=\"bar\",\n",
        "    x=\"Model\",\n",
        "    y=\"Value\",\n",
        "    hue=\"Metric\",\n",
        "    palette=\"dark\",\n",
        "    alpha=.6,\n",
        "    height=6\n",
        ");\n",
        "\n",
        "# Set axis labels\n",
        "g.set_axis_labels(\"\", \"score\")\n",
        "\n",
        "# Set legend title\n",
        "g.legend.set_title(\"Metric\")\n",
        "\n",
        "# Set figure title\n",
        "g.fig.suptitle(\"Model Evaluation On Test Data\")\n",
        "\n",
        "# Set y-ticks with a scale of 0.05\n",
        "g.ax.set_yticks([i * 0.05 for i in range(int(g.ax.get_ylim()[1] / 0.05) + 1)])\n",
        "\n",
        "# Show the plot\n",
        "plt.show()"
      ],
      "metadata": {
        "id": "JY9nO6Ed02VL"
      },
      "execution_count": null,
      "outputs": []
    },
    {
      "cell_type": "markdown",
      "source": [
        "Best Model:\n",
        "\n",
        "model_name =>\tRecall = value"
      ],
      "metadata": {
        "id": "mS6dUKr65mhB"
      }
    },
    {
      "cell_type": "markdown",
      "source": [
        "# 7.&nbsp;Storytelling:\n",
        "Deskripsikan (Ringkas Semua) semua proses dari bagian 1 sampai 6\n",
        "\n",
        "\n"
      ],
      "metadata": {
        "id": "_f0oUUWHLArj"
      }
    },
    {
      "cell_type": "markdown",
      "source": [
        "\n",
        "1. ...\n",
        "2. ...\n",
        "3. ...\n",
        "4. ...\n",
        "5. ...\n",
        "6. ..."
      ],
      "metadata": {
        "id": "lAmgrLtWLcXk"
      }
    },
    {
      "metadata": {
        "id": "EK0bxXjBpH8l"
      },
      "cell_type": "markdown",
      "source": [
        "# 8.&nbsp;Conclusion (Minimal 3):\n",
        "1. ...\n",
        "2. ...\n",
        "3. ..."
      ]
    },
    {
      "cell_type": "code",
      "source": [],
      "metadata": {
        "id": "NuhLXqeVfTyq"
      },
      "execution_count": null,
      "outputs": []
    }
  ],
  "metadata": {
    "kernelspec": {
      "name": "python3",
      "display_name": "Python 3",
      "language": "python"
    },
    "language_info": {
      "name": "python",
      "version": "3.7.6",
      "mimetype": "text/x-python",
      "codemirror_mode": {
        "name": "ipython",
        "version": 3
      },
      "pygments_lexer": "ipython3",
      "nbconvert_exporter": "python",
      "file_extension": ".py"
    },
    "colab": {
      "provenance": []
    }
  },
  "nbformat": 4,
  "nbformat_minor": 0
}