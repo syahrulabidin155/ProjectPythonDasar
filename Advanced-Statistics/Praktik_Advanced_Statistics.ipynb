{
  "nbformat": 4,
  "nbformat_minor": 0,
  "metadata": {
    "colab": {
      "provenance": []
    },
    "kernelspec": {
      "name": "python3",
      "display_name": "Python 3"
    },
    "language_info": {
      "name": "python"
    }
  },
  "cells": [
    {
      "cell_type": "code",
      "source": [
        "import pandas as pd"
      ],
      "metadata": {
        "id": "8My9OJUl52Qk"
      },
      "execution_count": null,
      "outputs": []
    },
    {
      "cell_type": "code",
      "source": [
        "from google.colab import drive\n",
        "drive.mount('/content/drive')"
      ],
      "metadata": {
        "colab": {
          "base_uri": "https://localhost:8080/"
        },
        "id": "Q7DvrWBX566P",
        "outputId": "ae43b969-a133-412f-de4e-5299bbda27e7"
      },
      "execution_count": null,
      "outputs": [
        {
          "output_type": "stream",
          "name": "stdout",
          "text": [
            "Drive already mounted at /content/drive; to attempt to forcibly remount, call drive.mount(\"/content/drive\", force_remount=True).\n"
          ]
        }
      ]
    },
    {
      "cell_type": "code",
      "source": [
        "df= pd.read_csv(\"/content/drive/MyDrive/GreatEdu/dfTransjakarta.csv\")"
      ],
      "metadata": {
        "id": "vSDeodBL6FIc"
      },
      "execution_count": null,
      "outputs": []
    },
    {
      "cell_type": "markdown",
      "source": [
        "**Soal 1**\n",
        "\n",
        "Hitunglah semua Measures of Central Tendency untuk kolom payAmount untuk seluruh transaksi berbayar (tidak gratis)!"
      ],
      "metadata": {
        "id": "7u3t4il37Fpw"
      }
    },
    {
      "cell_type": "code",
      "source": [
        "def mode (x):\n",
        "  return x.mode().iat[0]\n",
        "df[df['payAmount']>0]['payAmount'].agg(['mean','median', mode])"
      ],
      "metadata": {
        "colab": {
          "base_uri": "https://localhost:8080/"
        },
        "id": "sHzo71pG6SXE",
        "outputId": "0337912a-e0c9-4eb6-fa95-85a4d0574b8e"
      },
      "execution_count": null,
      "outputs": [
        {
          "output_type": "execute_result",
          "data": {
            "text/plain": [
              "mean      4919.757965\n",
              "median    3500.000000\n",
              "mode      3500.000000\n",
              "Name: payAmount, dtype: float64"
            ]
          },
          "metadata": {},
          "execution_count": 19
        }
      ]
    },
    {
      "cell_type": "markdown",
      "source": [
        "**Soal 2**\n",
        "\n",
        "Buatlah satu kolom baru umur yang berisi umur penumpang di tahun 2024 ini. Dengan menggunakan groupby & aggregate function atau pivot table, hitunglah mean dan median payAmount dan umur berdasarkan kelompok payCardBank yang digunakan!\n"
      ],
      "metadata": {
        "id": "P8mwNOuu7SD8"
      }
    },
    {
      "cell_type": "code",
      "source": [
        "df['Usia'] = 2024-df['payCardBirthDate']\n",
        "df[df['payAmount']>0].groupby('Usia')['payAmount'].agg(['mean','median'])"
      ],
      "metadata": {
        "colab": {
          "base_uri": "https://localhost:8080/",
          "height": 455
        },
        "id": "fSDqCuna7BxL",
        "outputId": "905177a9-5517-452f-b07e-56318d77b80d"
      },
      "execution_count": null,
      "outputs": [
        {
          "output_type": "execute_result",
          "data": {
            "text/plain": [
              "             mean  median\n",
              "Usia                     \n",
              "12    8381.418093  3500.0\n",
              "13    4802.631579  3500.0\n",
              "14    4886.270492  3500.0\n",
              "15    5133.663366  3500.0\n",
              "16    5180.873181  3500.0\n",
              "...           ...     ...\n",
              "73    3892.857143  3500.0\n",
              "75    6800.000000  3500.0\n",
              "76    3500.000000  3500.0\n",
              "77    3500.000000  3500.0\n",
              "78    3500.000000  3500.0\n",
              "\n",
              "[66 rows x 2 columns]"
            ],
            "text/html": [
              "\n",
              "  <div id=\"df-31dc61b5-230b-4620-865d-ca788983e210\" class=\"colab-df-container\">\n",
              "    <div>\n",
              "<style scoped>\n",
              "    .dataframe tbody tr th:only-of-type {\n",
              "        vertical-align: middle;\n",
              "    }\n",
              "\n",
              "    .dataframe tbody tr th {\n",
              "        vertical-align: top;\n",
              "    }\n",
              "\n",
              "    .dataframe thead th {\n",
              "        text-align: right;\n",
              "    }\n",
              "</style>\n",
              "<table border=\"1\" class=\"dataframe\">\n",
              "  <thead>\n",
              "    <tr style=\"text-align: right;\">\n",
              "      <th></th>\n",
              "      <th>mean</th>\n",
              "      <th>median</th>\n",
              "    </tr>\n",
              "    <tr>\n",
              "      <th>Usia</th>\n",
              "      <th></th>\n",
              "      <th></th>\n",
              "    </tr>\n",
              "  </thead>\n",
              "  <tbody>\n",
              "    <tr>\n",
              "      <th>12</th>\n",
              "      <td>8381.418093</td>\n",
              "      <td>3500.0</td>\n",
              "    </tr>\n",
              "    <tr>\n",
              "      <th>13</th>\n",
              "      <td>4802.631579</td>\n",
              "      <td>3500.0</td>\n",
              "    </tr>\n",
              "    <tr>\n",
              "      <th>14</th>\n",
              "      <td>4886.270492</td>\n",
              "      <td>3500.0</td>\n",
              "    </tr>\n",
              "    <tr>\n",
              "      <th>15</th>\n",
              "      <td>5133.663366</td>\n",
              "      <td>3500.0</td>\n",
              "    </tr>\n",
              "    <tr>\n",
              "      <th>16</th>\n",
              "      <td>5180.873181</td>\n",
              "      <td>3500.0</td>\n",
              "    </tr>\n",
              "    <tr>\n",
              "      <th>...</th>\n",
              "      <td>...</td>\n",
              "      <td>...</td>\n",
              "    </tr>\n",
              "    <tr>\n",
              "      <th>73</th>\n",
              "      <td>3892.857143</td>\n",
              "      <td>3500.0</td>\n",
              "    </tr>\n",
              "    <tr>\n",
              "      <th>75</th>\n",
              "      <td>6800.000000</td>\n",
              "      <td>3500.0</td>\n",
              "    </tr>\n",
              "    <tr>\n",
              "      <th>76</th>\n",
              "      <td>3500.000000</td>\n",
              "      <td>3500.0</td>\n",
              "    </tr>\n",
              "    <tr>\n",
              "      <th>77</th>\n",
              "      <td>3500.000000</td>\n",
              "      <td>3500.0</td>\n",
              "    </tr>\n",
              "    <tr>\n",
              "      <th>78</th>\n",
              "      <td>3500.000000</td>\n",
              "      <td>3500.0</td>\n",
              "    </tr>\n",
              "  </tbody>\n",
              "</table>\n",
              "<p>66 rows × 2 columns</p>\n",
              "</div>\n",
              "    <div class=\"colab-df-buttons\">\n",
              "\n",
              "  <div class=\"colab-df-container\">\n",
              "    <button class=\"colab-df-convert\" onclick=\"convertToInteractive('df-31dc61b5-230b-4620-865d-ca788983e210')\"\n",
              "            title=\"Convert this dataframe to an interactive table.\"\n",
              "            style=\"display:none;\">\n",
              "\n",
              "  <svg xmlns=\"http://www.w3.org/2000/svg\" height=\"24px\" viewBox=\"0 -960 960 960\">\n",
              "    <path d=\"M120-120v-720h720v720H120Zm60-500h600v-160H180v160Zm220 220h160v-160H400v160Zm0 220h160v-160H400v160ZM180-400h160v-160H180v160Zm440 0h160v-160H620v160ZM180-180h160v-160H180v160Zm440 0h160v-160H620v160Z\"/>\n",
              "  </svg>\n",
              "    </button>\n",
              "\n",
              "  <style>\n",
              "    .colab-df-container {\n",
              "      display:flex;\n",
              "      gap: 12px;\n",
              "    }\n",
              "\n",
              "    .colab-df-convert {\n",
              "      background-color: #E8F0FE;\n",
              "      border: none;\n",
              "      border-radius: 50%;\n",
              "      cursor: pointer;\n",
              "      display: none;\n",
              "      fill: #1967D2;\n",
              "      height: 32px;\n",
              "      padding: 0 0 0 0;\n",
              "      width: 32px;\n",
              "    }\n",
              "\n",
              "    .colab-df-convert:hover {\n",
              "      background-color: #E2EBFA;\n",
              "      box-shadow: 0px 1px 2px rgba(60, 64, 67, 0.3), 0px 1px 3px 1px rgba(60, 64, 67, 0.15);\n",
              "      fill: #174EA6;\n",
              "    }\n",
              "\n",
              "    .colab-df-buttons div {\n",
              "      margin-bottom: 4px;\n",
              "    }\n",
              "\n",
              "    [theme=dark] .colab-df-convert {\n",
              "      background-color: #3B4455;\n",
              "      fill: #D2E3FC;\n",
              "    }\n",
              "\n",
              "    [theme=dark] .colab-df-convert:hover {\n",
              "      background-color: #434B5C;\n",
              "      box-shadow: 0px 1px 3px 1px rgba(0, 0, 0, 0.15);\n",
              "      filter: drop-shadow(0px 1px 2px rgba(0, 0, 0, 0.3));\n",
              "      fill: #FFFFFF;\n",
              "    }\n",
              "  </style>\n",
              "\n",
              "    <script>\n",
              "      const buttonEl =\n",
              "        document.querySelector('#df-31dc61b5-230b-4620-865d-ca788983e210 button.colab-df-convert');\n",
              "      buttonEl.style.display =\n",
              "        google.colab.kernel.accessAllowed ? 'block' : 'none';\n",
              "\n",
              "      async function convertToInteractive(key) {\n",
              "        const element = document.querySelector('#df-31dc61b5-230b-4620-865d-ca788983e210');\n",
              "        const dataTable =\n",
              "          await google.colab.kernel.invokeFunction('convertToInteractive',\n",
              "                                                    [key], {});\n",
              "        if (!dataTable) return;\n",
              "\n",
              "        const docLinkHtml = 'Like what you see? Visit the ' +\n",
              "          '<a target=\"_blank\" href=https://colab.research.google.com/notebooks/data_table.ipynb>data table notebook</a>'\n",
              "          + ' to learn more about interactive tables.';\n",
              "        element.innerHTML = '';\n",
              "        dataTable['output_type'] = 'display_data';\n",
              "        await google.colab.output.renderOutput(dataTable, element);\n",
              "        const docLink = document.createElement('div');\n",
              "        docLink.innerHTML = docLinkHtml;\n",
              "        element.appendChild(docLink);\n",
              "      }\n",
              "    </script>\n",
              "  </div>\n",
              "\n",
              "\n",
              "<div id=\"df-c73c388b-1b73-45ea-acf0-81ea254d5dfd\">\n",
              "  <button class=\"colab-df-quickchart\" onclick=\"quickchart('df-c73c388b-1b73-45ea-acf0-81ea254d5dfd')\"\n",
              "            title=\"Suggest charts\"\n",
              "            style=\"display:none;\">\n",
              "\n",
              "<svg xmlns=\"http://www.w3.org/2000/svg\" height=\"24px\"viewBox=\"0 0 24 24\"\n",
              "     width=\"24px\">\n",
              "    <g>\n",
              "        <path d=\"M19 3H5c-1.1 0-2 .9-2 2v14c0 1.1.9 2 2 2h14c1.1 0 2-.9 2-2V5c0-1.1-.9-2-2-2zM9 17H7v-7h2v7zm4 0h-2V7h2v10zm4 0h-2v-4h2v4z\"/>\n",
              "    </g>\n",
              "</svg>\n",
              "  </button>\n",
              "\n",
              "<style>\n",
              "  .colab-df-quickchart {\n",
              "      --bg-color: #E8F0FE;\n",
              "      --fill-color: #1967D2;\n",
              "      --hover-bg-color: #E2EBFA;\n",
              "      --hover-fill-color: #174EA6;\n",
              "      --disabled-fill-color: #AAA;\n",
              "      --disabled-bg-color: #DDD;\n",
              "  }\n",
              "\n",
              "  [theme=dark] .colab-df-quickchart {\n",
              "      --bg-color: #3B4455;\n",
              "      --fill-color: #D2E3FC;\n",
              "      --hover-bg-color: #434B5C;\n",
              "      --hover-fill-color: #FFFFFF;\n",
              "      --disabled-bg-color: #3B4455;\n",
              "      --disabled-fill-color: #666;\n",
              "  }\n",
              "\n",
              "  .colab-df-quickchart {\n",
              "    background-color: var(--bg-color);\n",
              "    border: none;\n",
              "    border-radius: 50%;\n",
              "    cursor: pointer;\n",
              "    display: none;\n",
              "    fill: var(--fill-color);\n",
              "    height: 32px;\n",
              "    padding: 0;\n",
              "    width: 32px;\n",
              "  }\n",
              "\n",
              "  .colab-df-quickchart:hover {\n",
              "    background-color: var(--hover-bg-color);\n",
              "    box-shadow: 0 1px 2px rgba(60, 64, 67, 0.3), 0 1px 3px 1px rgba(60, 64, 67, 0.15);\n",
              "    fill: var(--button-hover-fill-color);\n",
              "  }\n",
              "\n",
              "  .colab-df-quickchart-complete:disabled,\n",
              "  .colab-df-quickchart-complete:disabled:hover {\n",
              "    background-color: var(--disabled-bg-color);\n",
              "    fill: var(--disabled-fill-color);\n",
              "    box-shadow: none;\n",
              "  }\n",
              "\n",
              "  .colab-df-spinner {\n",
              "    border: 2px solid var(--fill-color);\n",
              "    border-color: transparent;\n",
              "    border-bottom-color: var(--fill-color);\n",
              "    animation:\n",
              "      spin 1s steps(1) infinite;\n",
              "  }\n",
              "\n",
              "  @keyframes spin {\n",
              "    0% {\n",
              "      border-color: transparent;\n",
              "      border-bottom-color: var(--fill-color);\n",
              "      border-left-color: var(--fill-color);\n",
              "    }\n",
              "    20% {\n",
              "      border-color: transparent;\n",
              "      border-left-color: var(--fill-color);\n",
              "      border-top-color: var(--fill-color);\n",
              "    }\n",
              "    30% {\n",
              "      border-color: transparent;\n",
              "      border-left-color: var(--fill-color);\n",
              "      border-top-color: var(--fill-color);\n",
              "      border-right-color: var(--fill-color);\n",
              "    }\n",
              "    40% {\n",
              "      border-color: transparent;\n",
              "      border-right-color: var(--fill-color);\n",
              "      border-top-color: var(--fill-color);\n",
              "    }\n",
              "    60% {\n",
              "      border-color: transparent;\n",
              "      border-right-color: var(--fill-color);\n",
              "    }\n",
              "    80% {\n",
              "      border-color: transparent;\n",
              "      border-right-color: var(--fill-color);\n",
              "      border-bottom-color: var(--fill-color);\n",
              "    }\n",
              "    90% {\n",
              "      border-color: transparent;\n",
              "      border-bottom-color: var(--fill-color);\n",
              "    }\n",
              "  }\n",
              "</style>\n",
              "\n",
              "  <script>\n",
              "    async function quickchart(key) {\n",
              "      const quickchartButtonEl =\n",
              "        document.querySelector('#' + key + ' button');\n",
              "      quickchartButtonEl.disabled = true;  // To prevent multiple clicks.\n",
              "      quickchartButtonEl.classList.add('colab-df-spinner');\n",
              "      try {\n",
              "        const charts = await google.colab.kernel.invokeFunction(\n",
              "            'suggestCharts', [key], {});\n",
              "      } catch (error) {\n",
              "        console.error('Error during call to suggestCharts:', error);\n",
              "      }\n",
              "      quickchartButtonEl.classList.remove('colab-df-spinner');\n",
              "      quickchartButtonEl.classList.add('colab-df-quickchart-complete');\n",
              "    }\n",
              "    (() => {\n",
              "      let quickchartButtonEl =\n",
              "        document.querySelector('#df-c73c388b-1b73-45ea-acf0-81ea254d5dfd button');\n",
              "      quickchartButtonEl.style.display =\n",
              "        google.colab.kernel.accessAllowed ? 'block' : 'none';\n",
              "    })();\n",
              "  </script>\n",
              "</div>\n",
              "    </div>\n",
              "  </div>\n"
            ],
            "application/vnd.google.colaboratory.intrinsic+json": {
              "type": "dataframe",
              "summary": "{\n  \"name\": \"df[df['payAmount']>0]\",\n  \"rows\": 66,\n  \"fields\": [\n    {\n      \"column\": \"Usia\",\n      \"properties\": {\n        \"dtype\": \"number\",\n        \"std\": 19,\n        \"min\": 12,\n        \"max\": 78,\n        \"num_unique_values\": 66,\n        \"samples\": [\n          66,\n          75,\n          12\n        ],\n        \"semantic_type\": \"\",\n        \"description\": \"\"\n      }\n    },\n    {\n      \"column\": \"mean\",\n      \"properties\": {\n        \"dtype\": \"number\",\n        \"std\": 1349.8851949856207,\n        \"min\": 3500.0,\n        \"max\": 9167.51269035533,\n        \"num_unique_values\": 47,\n        \"samples\": [\n          6789.3890675241155,\n          3610.738255033557,\n          9167.51269035533\n        ],\n        \"semantic_type\": \"\",\n        \"description\": \"\"\n      }\n    },\n    {\n      \"column\": \"median\",\n      \"properties\": {\n        \"dtype\": \"number\",\n        \"std\": 0.0,\n        \"min\": 3500.0,\n        \"max\": 3500.0,\n        \"num_unique_values\": 1,\n        \"samples\": [\n          3500.0\n        ],\n        \"semantic_type\": \"\",\n        \"description\": \"\"\n      }\n    }\n  ]\n}"
            }
          },
          "metadata": {},
          "execution_count": 7
        }
      ]
    },
    {
      "cell_type": "markdown",
      "source": [
        "**Soal 3**\n",
        "\n",
        "Buatlah beberapa kolom baru:\n",
        "- num_stop untuk menghitung jumlah pemberhentian (stopEndSeq - stopStartSeq)\n",
        "- duration untuk menghitung lama perjalanan (tapInTime-tapOutTime)\n",
        "\n",
        "Kemudian gunakan method corr() pada dataframe (dokumentasi dan contoh penggunaan dapat dilihat pada link berikut) untuk menghitung pearson correlation antara num_stop dan payAmount kemudian berikan penjelasan dari hasil nilai correlation tersebut"
      ],
      "metadata": {
        "id": "C9KSFUXW8GvK"
      }
    },
    {
      "cell_type": "code",
      "source": [
        "df['tapInTime'] = pd.to_datetime(df['tapInTime'])\n",
        "df['tapOutTime'] = pd.to_datetime(df['tapOutTime'])\n",
        "df['numStop'] = df['stopEndSeq'] - df['stopStartSeq']\n",
        "df['duration'] = df['tapOutTime'] - df['tapInTime']\n",
        "print('Correlation antara num_stop dan payAmount:',df['duration'].dt.total_seconds().corr(df['numStop']))"
      ],
      "metadata": {
        "colab": {
          "base_uri": "https://localhost:8080/"
        },
        "id": "HsLkczaM8LIh",
        "outputId": "2c1923b8-5013-4e0d-8ec7-8b9d7b12ce57"
      },
      "execution_count": null,
      "outputs": [
        {
          "output_type": "stream",
          "name": "stdout",
          "text": [
            "Correlation antara num_stop dan payAmount: 0.006553668583187641\n"
          ]
        }
      ]
    },
    {
      "cell_type": "markdown",
      "source": [
        "**Soal 4**\n",
        "\n",
        "Buatlah 2 dataframe baru yang berisi 600 sample data dengan kriteria berikut:\n",
        "\n",
        "A. Sampling menggunakan random sample method sample()\n",
        "\n",
        "B. Sampling menggunakan stratified sampling untuk kelompok payCardBank, hint : dapat menggunakan kombinasi groupby dan lambda\n",
        "\n",
        "Kemudian hitung distribusi banyaknya jumlah transaksi (dalam percentage) disetiap kelompok payCardBank untuk dataframe original (sebelum di sampling), hasil random sampling, dan hasil stratified sampling. Dan tuliskan penjelasan apa yang dapat kamu simpulkan dari hasil tersebut"
      ],
      "metadata": {
        "id": "DSN1E8_s-MRq"
      }
    },
    {
      "cell_type": "code",
      "source": [
        "origin_distribution = df['payCardBank'].value_counts(normalize=True) * 100\n",
        "\n",
        "random_sample_df = df.sample(n=600, random_state=42)\n",
        "\n",
        "random_sample_distribution = random_sample_df['payCardBank'].value_counts(normalize=True) * 100\n",
        "\n",
        "stratified_sample_df = df.groupby('payCardBank', group_keys=False).apply(lambda x: x.sample(n=round(600 * len(x) / len(df)), random_state=42))\n",
        "stratified_sample_distribution = stratified_sample_df['payCardBank'].value_counts(normalize=True) * 100\n",
        "\n",
        "print(\"Distribusi Banyaknya Jumlah Transaksi:\")\n",
        "print(f\"Origin Dataframe:\\n{origin_distribution}\\n\\nHasil Random Sampling:\\n{random_sample_distribution}\\n\\nHasil Stratified Sampling:\\n{stratified_sample_distribution}\")"
      ],
      "metadata": {
        "colab": {
          "base_uri": "https://localhost:8080/"
        },
        "id": "SLe_NDMK-OIG",
        "outputId": "6ae3b6f7-0e6f-485f-ae31-9c08c3d3903b"
      },
      "execution_count": null,
      "outputs": [
        {
          "output_type": "stream",
          "name": "stdout",
          "text": [
            "Distribusi Banyaknya Jumlah Transaksi:\n",
            "Origin Dataframe:\n",
            "dki       49.453826\n",
            "emoney    18.116095\n",
            "brizzi     9.316623\n",
            "flazz      8.532982\n",
            "online     7.569921\n",
            "bni        7.010554\n",
            "Name: payCardBank, dtype: float64\n",
            "\n",
            "Hasil Random Sampling:\n",
            "dki       48.666667\n",
            "emoney    16.333333\n",
            "brizzi    10.000000\n",
            "online     9.666667\n",
            "flazz      8.500000\n",
            "bni        6.833333\n",
            "Name: payCardBank, dtype: float64\n",
            "\n",
            "Hasil Stratified Sampling:\n",
            "dki       49.500000\n",
            "emoney    18.166667\n",
            "brizzi     9.333333\n",
            "flazz      8.500000\n",
            "online     7.500000\n",
            "bni        7.000000\n",
            "Name: payCardBank, dtype: float64\n"
          ]
        }
      ]
    }
  ]
}