{
  "nbformat": 4,
  "nbformat_minor": 0,
  "metadata": {
    "colab": {
      "provenance": [],
      "toc_visible": true
    },
    "kernelspec": {
      "name": "python3",
      "display_name": "Python 3"
    },
    "language_info": {
      "name": "python"
    }
  },
  "cells": [
    {
      "cell_type": "code",
      "execution_count": null,
      "metadata": {
        "id": "sXOOXbjoUnBE"
      },
      "outputs": [],
      "source": [
        "import numpy as np\n",
        "import pandas as pd\n",
        "\n",
        "import matplotlib.pyplot as plt\n",
        "import seaborn as sns\n",
        "\n",
        "#untuk dapat melihat seluruh kolom dan baris\n",
        "pd.set_option('display.max_columns', None)\n",
        "pd.set_option('display.max_rows', None)"
      ]
    },
    {
      "cell_type": "markdown",
      "source": [
        "# Read TransJakarta Transaction Data\n",
        "\n",
        "source: https://www.kaggle.com/datasets/dikisahkan/transjakarta-transportation-transaction"
      ],
      "metadata": {
        "id": "GyCrtxZKWSbo"
      }
    },
    {
      "cell_type": "code",
      "source": [
        "df= pd.read_csv(\"/content/drive/MyDrive/Personal Project/GreatEdu KM - Data Science Course/dfTransjakarta.csv\")\n"
      ],
      "metadata": {
        "id": "gUyM7FkRWRit"
      },
      "execution_count": null,
      "outputs": []
    },
    {
      "cell_type": "code",
      "source": [
        "#check dimensi data\n",
        "df.shape\n",
        "#len(df)"
      ],
      "metadata": {
        "id": "eaUGCrZHWiPJ"
      },
      "execution_count": null,
      "outputs": []
    },
    {
      "cell_type": "code",
      "source": [
        "#tampilkan top 5 data\n",
        "df.head()"
      ],
      "metadata": {
        "id": "kX349T-vWsh1"
      },
      "execution_count": null,
      "outputs": []
    },
    {
      "cell_type": "code",
      "source": [
        "#buat beberapa kolom tambahan\n",
        "df['age'] = 2024-df['payCardBirthDate']\n",
        "df['numStop'] = df['stopEndSeq']-df['stopStartSeq']\n",
        "df['tapInTime'] = pd.to_datetime(df['tapInTime'])\n",
        "df['tapOutTime'] = pd.to_datetime(df['tapOutTime'])\n",
        "df['durationMinutes'] = (df['tapOutTime'] - df['tapInTime']).dt.total_seconds() / 60\n",
        "df['tapInDate'] = df['tapInTime'].dt.date\n",
        "df.sample(5)"
      ],
      "metadata": {
        "id": "wdxjnRjedQwH"
      },
      "execution_count": null,
      "outputs": []
    },
    {
      "cell_type": "code",
      "source": [
        "#membuat data summary daily\n",
        "daily_df = df.groupby('tapInDate').agg(\n",
        "    numTrans=('tapInTime', 'count'),\n",
        "    uniqueUsers=('payCardID', 'nunique'),\n",
        "    totalAmount=('payAmount', 'sum'),\n",
        "    avgAmount=('payAmount', 'mean'),\n",
        "    medianAmount=('payAmount', 'median'),\n",
        "    avgDuration=('durationMinutes', 'mean'),\n",
        "    medianDuration=('durationMinutes', 'median'),\n",
        "    avgStop=('numStop', 'mean'),\n",
        "    medianStop=('numStop', 'median'),\n",
        "    avgAge=('age', 'mean'),\n",
        "    medianAge=('age', 'median'),\n",
        ").reset_index()\n",
        "daily_df.head()"
      ],
      "metadata": {
        "id": "7fqLSCOQel9D"
      },
      "execution_count": null,
      "outputs": []
    },
    {
      "cell_type": "code",
      "source": [
        "card_df = df.groupby('payCardBank').agg(\n",
        "    numTrans=('tapInTime', 'count'),\n",
        "    uniqueUsers=('payCardID', 'nunique')\n",
        ").reset_index()\n",
        "card_df.head()"
      ],
      "metadata": {
        "id": "7bE68ClMjeOr"
      },
      "execution_count": null,
      "outputs": []
    },
    {
      "cell_type": "markdown",
      "source": [
        "# MATPLOTLIB\n",
        "\n"
      ],
      "metadata": {
        "id": "ad_6LniPW5bM"
      }
    },
    {
      "cell_type": "markdown",
      "source": [
        "## Line chart"
      ],
      "metadata": {
        "id": "yGmdrAvlcNBO"
      }
    },
    {
      "cell_type": "code",
      "source": [
        "# contoh data dalam array\n",
        "x = [10, 20, 30, 40]\n",
        "y = [20, 30, 40, 50]\n",
        "\n",
        "# plotting data\n",
        "plt.plot(x, y)\n",
        "\n",
        "# menambahkan keterangan\n",
        "plt.title(\"Simple Plot\")\n",
        "plt.ylabel(\"y-axis\")\n",
        "plt.xlabel(\"x-axis\")\n",
        "\n",
        "plt.show()"
      ],
      "metadata": {
        "id": "aDnQ87_lf_Gr"
      },
      "execution_count": null,
      "outputs": []
    },
    {
      "cell_type": "code",
      "source": [
        "#contoh dengan dataframe\n",
        "\n",
        "# Menentukan ukuran figure\n",
        "plt.figure(figsize=(10, 6))\n",
        "\n",
        "plt.plot(daily_df['tapInDate'], daily_df['numTrans'])\n",
        "# plt.plot(daily_df['tapInDate'], daily_df['numTrans'],'--')\n",
        "\n",
        "# menambahkan keterangan\n",
        "plt.title(\"Jumlah Transaksi TJ Harian\")\n",
        "plt.ylabel(\"Jumlah Transaksi\")\n",
        "plt.xlabel(\"Tanggal\")\n",
        "\n",
        "plt.show()"
      ],
      "metadata": {
        "id": "-iWtf1FHgX1U"
      },
      "execution_count": null,
      "outputs": []
    },
    {
      "cell_type": "code",
      "source": [
        "#contoh multiple line\n",
        "\n",
        "plt.figure(figsize=(10, 6))\n",
        "\n",
        "plt.plot(daily_df['tapInDate'], daily_df['numTrans'] , label = 'num trans')\n",
        "plt.plot(daily_df['tapInDate'], daily_df['uniqueUsers'] , label = 'num user')\n",
        "plt.legend()\n",
        "\n",
        "plt.title(\"Jumlah Transaksi TJ Harian\")\n",
        "plt.xlabel(\"Tanggal\")\n",
        "\n",
        "plt.show()"
      ],
      "metadata": {
        "id": "yIP8hFYliSx7"
      },
      "execution_count": null,
      "outputs": []
    },
    {
      "cell_type": "markdown",
      "source": [
        "## Bar Chart"
      ],
      "metadata": {
        "id": "RCjwjK7HjU8r"
      }
    },
    {
      "cell_type": "code",
      "source": [
        "# Data\n",
        "kategori = ['A', 'B', 'C', 'D']\n",
        "nilai = [10, 20, 15, 5]\n",
        "\n",
        "# Membuat grafik batang\n",
        "plt.bar(kategori, nilai)\n",
        "\n",
        "# Menambahkan judul dan label\n",
        "plt.title('Grafik Batang')\n",
        "plt.xlabel('Kategori')\n",
        "plt.ylabel('Nilai')\n",
        "\n",
        "# Menampilkan grafik\n",
        "plt.show()"
      ],
      "metadata": {
        "id": "3SeETuJxjXqV"
      },
      "execution_count": null,
      "outputs": []
    },
    {
      "cell_type": "code",
      "source": [
        "plt.bar(card_df['payCardBank'], card_df['uniqueUsers'])\n",
        "\n",
        "# Menambahkan judul dan label\n",
        "plt.title('Pengguna Kartu Non Tunai')\n",
        "plt.xlabel('Bank')\n",
        "plt.ylabel('Jumlah Pengguna')\n",
        "\n",
        "# Menampilkan grafik\n",
        "plt.show()"
      ],
      "metadata": {
        "id": "NKK3jsgFjsd8"
      },
      "execution_count": null,
      "outputs": []
    },
    {
      "cell_type": "markdown",
      "source": [
        "## Scatter Plot"
      ],
      "metadata": {
        "id": "ZprKz97MkQ7s"
      }
    },
    {
      "cell_type": "code",
      "source": [
        "# Data\n",
        "x = np.random.rand(50)\n",
        "y = np.random.rand(50)\n",
        "\n",
        "# Membuat grafik scatter\n",
        "plt.scatter(x, y)\n",
        "\n",
        "# Menambahkan judul\n",
        "plt.title('Grafik Scatter')\n",
        "\n",
        "# Menampilkan grafik\n",
        "plt.show()"
      ],
      "metadata": {
        "id": "5SorKOuPjaJr"
      },
      "execution_count": null,
      "outputs": []
    },
    {
      "cell_type": "code",
      "source": [
        "plt.scatter(df['numStop'], df[\"age\"])\n",
        "\n",
        "\n",
        "# Menambahkan judul\n",
        "plt.title('Grafik Scatter')\n",
        "plt.xlabel('numStop')\n",
        "plt.ylabel('age')\n",
        "\n",
        "# Menampilkan grafik\n",
        "plt.show()"
      ],
      "metadata": {
        "id": "94EGmlgRkXs7"
      },
      "execution_count": null,
      "outputs": []
    },
    {
      "cell_type": "markdown",
      "source": [
        "## Histogram Chart"
      ],
      "metadata": {
        "id": "1kpYGQ_nlxXG"
      }
    },
    {
      "cell_type": "code",
      "source": [
        "# Data\n",
        "data = np.random.randn(1000)\n",
        "\n",
        "# Membuat histogram\n",
        "plt.hist(data, bins=30)\n",
        "\n",
        "# Menambahkan judul dan label\n",
        "plt.title('Histogram')\n",
        "plt.xlabel('Nilai')\n",
        "plt.ylabel('Frekuensi')\n",
        "\n",
        "# Menampilkan grafik\n",
        "plt.show()\n"
      ],
      "metadata": {
        "id": "9ACrh5dKl1mp"
      },
      "execution_count": null,
      "outputs": []
    },
    {
      "cell_type": "code",
      "source": [
        "# Membuat histogram\n",
        "plt.hist(df['age'], bins=20)\n",
        "\n",
        "# Menambahkan judul dan label\n",
        "plt.title('Histogram')\n",
        "plt.xlabel('Umur')\n",
        "plt.ylabel('Transaksi')\n",
        "\n",
        "# Menampilkan grafik\n",
        "plt.show()"
      ],
      "metadata": {
        "id": "X-XjDR9Pl6Pp"
      },
      "execution_count": null,
      "outputs": []
    },
    {
      "cell_type": "markdown",
      "source": [
        "# SEABORN"
      ],
      "metadata": {
        "id": "n6SlrQvjonwQ"
      }
    },
    {
      "cell_type": "code",
      "source": [
        "sns.set_style(\"darkgrid\") # Contoh tema: darkgrid, whitegrid, dark, white, dan ticks"
      ],
      "metadata": {
        "id": "u-B6Y5CSpO64"
      },
      "execution_count": null,
      "outputs": []
    },
    {
      "cell_type": "markdown",
      "source": [
        "## Line Chart"
      ],
      "metadata": {
        "id": "OocCoCrLo6o4"
      }
    },
    {
      "cell_type": "code",
      "source": [
        "daily_df.sample(1)"
      ],
      "metadata": {
        "id": "tXUXm-5VpCtM"
      },
      "execution_count": null,
      "outputs": []
    },
    {
      "cell_type": "code",
      "source": [
        "df.sample(1)"
      ],
      "metadata": {
        "id": "5SkG_LbeuvNX"
      },
      "execution_count": null,
      "outputs": []
    },
    {
      "cell_type": "code",
      "source": [
        "\n",
        "sns.lineplot(x=\"tapInDate\", y=\"avgAge\", data=daily_df)\n",
        "# sns.lineplot(x=\"tapInDate\", y=\"age\", data=df)\n",
        "# sns.lineplot(x=\"tapInDate\", y=\"age\", hue=\"direction\", style=\"payCardSex\", markers=True, dashes=False, data=df)\n",
        "\n",
        "# add labels and title\n",
        "plt.xlabel(\"tapInDate\")\n",
        "plt.ylabel(\"age\")\n",
        "plt.title(\"Sample Line Chart\")\n",
        "\n",
        "# display the plot\n",
        "\n",
        "plt.show()"
      ],
      "metadata": {
        "id": "dd2J1IivmCIx"
      },
      "execution_count": null,
      "outputs": []
    },
    {
      "cell_type": "markdown",
      "source": [
        "## Bar Chart"
      ],
      "metadata": {
        "id": "JdptajmnwEI9"
      }
    },
    {
      "cell_type": "code",
      "source": [
        "sns.barplot(x=\"payCardBank\", y=\"uniqueUsers\", data=card_df)\n",
        "\n",
        "#automatically calculate average\n",
        "# sns.barplot(x=\"payCardBank\", y=\"age\", hue=\"payCardSex\", ci=None, palette=\"pastel\", data=df)\n",
        "\n",
        "\n",
        "# add labels and title\n",
        "plt.title(\"Sample Bar Chart\")\n",
        "\n",
        "# display the plot\n",
        "plt.show()"
      ],
      "metadata": {
        "id": "3Agm5MydwMtO"
      },
      "execution_count": null,
      "outputs": []
    },
    {
      "cell_type": "markdown",
      "source": [
        "## Scatter plot"
      ],
      "metadata": {
        "id": "ogajToyCxy2V"
      }
    },
    {
      "cell_type": "code",
      "source": [
        "sns.scatterplot(x=\"numStop\", y=\"age\", data=df)\n",
        "# sns.scatterplot(x=\"numStop\", y=\"age\", hue=\"payCardSex\",  data=df)\n",
        "plt.show()"
      ],
      "metadata": {
        "id": "gureH34Hx2vJ"
      },
      "execution_count": null,
      "outputs": []
    },
    {
      "cell_type": "markdown",
      "source": [
        "## Histogram Chart"
      ],
      "metadata": {
        "id": "OgEOMT7nyTtg"
      }
    },
    {
      "cell_type": "code",
      "source": [
        "sns.histplot(x=\"age\", data=df)\n",
        "\n",
        "# sns.histplot(x=\"age\", data=df, bins=20, kde=True, color=\"green\")\n",
        "#Plot KDE (Kernel Density Estimation) adalah sebuah grafik yang menunjukkan seberapa padat atau sering data muncul di berbagai titik.\n",
        "\n",
        "plt.show()"
      ],
      "metadata": {
        "id": "vuCEx6gmyS_o"
      },
      "execution_count": null,
      "outputs": []
    },
    {
      "cell_type": "markdown",
      "source": [
        "## Heatmap"
      ],
      "metadata": {
        "id": "Xd-Gek7mzXB3"
      }
    },
    {
      "cell_type": "code",
      "source": [
        "# Menghitung korelasi\n",
        "corr = daily_df.corr()\n",
        "\n",
        "# Membuat heatmap dari korelasi\n",
        "sns.heatmap(corr, annot=True) # annot=True menampilkan nilai korelasi pada heatmap\n",
        "\n",
        "# Menampilkan plot\n",
        "plt.show()"
      ],
      "metadata": {
        "id": "wZbynrHqzVrZ"
      },
      "execution_count": null,
      "outputs": []
    },
    {
      "cell_type": "markdown",
      "source": [
        "#PANDAS PLOT"
      ],
      "metadata": {
        "id": "gOdvkFKw0SG6"
      }
    },
    {
      "cell_type": "markdown",
      "source": [
        "## Line Chart"
      ],
      "metadata": {
        "id": "EW5M_I0n0pmL"
      }
    },
    {
      "cell_type": "code",
      "source": [
        "# Membuat line plot\n",
        "daily_df.set_index('tapInDate',inplace=True)\n",
        "daily_df[['avgAge','avgStop','avgDuration']].plot()"
      ],
      "metadata": {
        "id": "v4fAeNgV0NZ5"
      },
      "execution_count": null,
      "outputs": []
    },
    {
      "cell_type": "markdown",
      "source": [
        "## Bar Chart"
      ],
      "metadata": {
        "id": "UUfn_7EN1coV"
      }
    },
    {
      "cell_type": "code",
      "source": [
        "# Data contoh\n",
        "data = {'Apples': [3, 2, 4, 6], 'Oranges': [4, 5, 7, 8]}\n",
        "df = pd.DataFrame(data)\n",
        "\n",
        "# Membuat bar chart\n",
        "df.plot.bar()"
      ],
      "metadata": {
        "id": "PuvhFkX01eKs"
      },
      "execution_count": null,
      "outputs": []
    },
    {
      "cell_type": "markdown",
      "source": [
        "## Scatter plot"
      ],
      "metadata": {
        "id": "_ZaHK-nh2ah0"
      }
    },
    {
      "cell_type": "code",
      "source": [
        "# Data contoh\n",
        "df = pd.DataFrame({\n",
        "    'X': np.random.randn(100),\n",
        "    'Y': np.random.randn(100)\n",
        "})\n",
        "\n",
        "# Membuat scatter plot\n",
        "df.plot.scatter(x='X', y='Y')"
      ],
      "metadata": {
        "id": "CEdy6WWQ2fMU"
      },
      "execution_count": null,
      "outputs": []
    },
    {
      "cell_type": "markdown",
      "source": [
        "## Histogram Chart"
      ],
      "metadata": {
        "id": "RqjBvUqG2m7B"
      }
    },
    {
      "cell_type": "code",
      "source": [
        "# Data contoh\n",
        "df = pd.DataFrame({\n",
        "    'Data': np.random.randn(100)\n",
        "})\n",
        "\n",
        "# Membuat histogram\n",
        "df['Data'].plot.hist(bins=20)"
      ],
      "metadata": {
        "id": "CCJZ-bnk2mF-"
      },
      "execution_count": null,
      "outputs": []
    }
  ]
}